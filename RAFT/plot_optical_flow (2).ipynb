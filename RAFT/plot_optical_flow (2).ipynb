{
  "cells": [
    {
      "cell_type": "code",
      "execution_count": 1,
      "metadata": {
        "collapsed": false
      },
      "outputs": [],
      "source": [
        "%matplotlib inline"
      ]
    },
    {
      "cell_type": "markdown",
      "metadata": {},
      "source": [
        "\n",
        "# Optical Flow: Predicting movement with the RAFT model\n",
        "\n",
        "Optical flow is the task of predicting movement between two images, usually two\n",
        "consecutive frames of a video. Optical flow models take two images as input, and\n",
        "predict a flow: the flow indicates the displacement of every single pixel in the\n",
        "first image, and maps it to its corresponding pixel in the second image. Flows\n",
        "are (2, H, W)-dimensional tensors, where the first axis corresponds to the\n",
        "predicted horizontal and vertical displacements.\n",
        "\n",
        "The following example illustrates how torchvision can be used to predict flows\n",
        "using our implementation of the RAFT model. We will also see how to convert the\n",
        "predicted flows to RGB images for visualization.\n"
      ]
    },
    {
      "cell_type": "code",
      "execution_count": 2,
      "metadata": {
        "collapsed": false
      },
      "outputs": [
        {
          "name": "stderr",
          "output_type": "stream",
          "text": [
            "/Users/senemisik/opt/miniconda3/lib/python3.8/site-packages/tqdm/auto.py:22: TqdmWarning: IProgress not found. Please update jupyter and ipywidgets. See https://ipywidgets.readthedocs.io/en/stable/user_install.html\n",
            "  from .autonotebook import tqdm as notebook_tqdm\n"
          ]
        }
      ],
      "source": [
        "import numpy as np\n",
        "import torch\n",
        "import matplotlib.pyplot as plt\n",
        "import torchvision.transforms.functional as F\n",
        "\n",
        "\n",
        "plt.rcParams[\"savefig.bbox\"] = \"tight\"\n",
        "# sphinx_gallery_thumbnail_number = 2\n",
        "\n",
        "\n",
        "def plot(imgs, **imshow_kwargs):\n",
        "    if not isinstance(imgs[0], list):\n",
        "        # Make a 2d grid even if there's just 1 row\n",
        "        imgs = [imgs]\n",
        "\n",
        "    num_rows = len(imgs)\n",
        "    num_cols = len(imgs[0])\n",
        "    _, axs = plt.subplots(nrows=num_rows, ncols=num_cols, squeeze=False)\n",
        "    for row_idx, row in enumerate(imgs):\n",
        "        for col_idx, img in enumerate(row):\n",
        "            ax = axs[row_idx, col_idx]\n",
        "            img = F.to_pil_image(img.to(\"cpu\"))\n",
        "            ax.imshow(np.asarray(img), **imshow_kwargs)\n",
        "            ax.set(xticklabels=[], yticklabels=[], xticks=[], yticks=[])\n",
        "\n",
        "    plt.tight_layout()"
      ]
    },
    {
      "cell_type": "markdown",
      "metadata": {},
      "source": [
        ":func:`~torchvision.io.read_video` returns the video frames, audio frames and\n",
        "the metadata associated with the video. In our case, we only need the video\n",
        "frames.\n",
        "\n",
        "Here we will just make 2 predictions between 2 pre-selected pairs of frames,\n",
        "namely frames (100, 101) and (150, 151). Each of these pairs corresponds to a\n",
        "single model input.\n",
        "\n"
      ]
    },
    {
      "cell_type": "code",
      "execution_count": 11,
      "metadata": {
        "collapsed": false
      },
      "outputs": [
        {
          "ename": "ImportError",
          "evalue": "PyAV is not installed, and is necessary for the video operations in torchvision.\nSee https://github.com/mikeboers/PyAV#installation for instructions on how to\ninstall PyAV on your system.\n",
          "output_type": "error",
          "traceback": [
            "\u001b[0;31m---------------------------------------------------------------------------\u001b[0m",
            "\u001b[0;31mImportError\u001b[0m                               Traceback (most recent call last)",
            "\u001b[1;32m/Users/senemisik/Documents/GitHub/cs231n/plot_optical_flow (2).ipynb Cell 7'\u001b[0m in \u001b[0;36m<cell line: 2>\u001b[0;34m()\u001b[0m\n\u001b[1;32m      <a href='vscode-notebook-cell:/Users/senemisik/Documents/GitHub/cs231n/plot_optical_flow%20%282%29.ipynb#ch0000006?line=0'>1</a>\u001b[0m \u001b[39mfrom\u001b[39;00m \u001b[39mtorchvision\u001b[39;00m\u001b[39m.\u001b[39;00m\u001b[39mio\u001b[39;00m \u001b[39mimport\u001b[39;00m read_video\n\u001b[0;32m----> <a href='vscode-notebook-cell:/Users/senemisik/Documents/GitHub/cs231n/plot_optical_flow%20%282%29.ipynb#ch0000006?line=1'>2</a>\u001b[0m frames, _, _ \u001b[39m=\u001b[39m read_video(\u001b[39mstr\u001b[39;49m(video_path))\n\u001b[1;32m      <a href='vscode-notebook-cell:/Users/senemisik/Documents/GitHub/cs231n/plot_optical_flow%20%282%29.ipynb#ch0000006?line=2'>3</a>\u001b[0m frames \u001b[39m=\u001b[39m frames\u001b[39m.\u001b[39mpermute(\u001b[39m0\u001b[39m, \u001b[39m3\u001b[39m, \u001b[39m1\u001b[39m, \u001b[39m2\u001b[39m)  \u001b[39m# (N, H, W, C) -> (N, C, H, W)\u001b[39;00m\n\u001b[1;32m      <a href='vscode-notebook-cell:/Users/senemisik/Documents/GitHub/cs231n/plot_optical_flow%20%282%29.ipynb#ch0000006?line=4'>5</a>\u001b[0m img1_batch \u001b[39m=\u001b[39m torch\u001b[39m.\u001b[39mstack([frames[\u001b[39m100\u001b[39m], frames[\u001b[39m150\u001b[39m]])\n",
            "File \u001b[0;32m~/opt/miniconda3/lib/python3.8/site-packages/torchvision/io/video.py:273\u001b[0m, in \u001b[0;36mread_video\u001b[0;34m(filename, start_pts, end_pts, pts_unit)\u001b[0m\n\u001b[1;32m    <a href='file:///Users/senemisik/opt/miniconda3/lib/python3.8/site-packages/torchvision/io/video.py?line=269'>270</a>\u001b[0m \u001b[39mif\u001b[39;00m get_video_backend() \u001b[39m!=\u001b[39m \u001b[39m\"\u001b[39m\u001b[39mpyav\u001b[39m\u001b[39m\"\u001b[39m:\n\u001b[1;32m    <a href='file:///Users/senemisik/opt/miniconda3/lib/python3.8/site-packages/torchvision/io/video.py?line=270'>271</a>\u001b[0m     \u001b[39mreturn\u001b[39;00m _video_opt\u001b[39m.\u001b[39m_read_video(filename, start_pts, end_pts, pts_unit)\n\u001b[0;32m--> <a href='file:///Users/senemisik/opt/miniconda3/lib/python3.8/site-packages/torchvision/io/video.py?line=272'>273</a>\u001b[0m _check_av_available()\n\u001b[1;32m    <a href='file:///Users/senemisik/opt/miniconda3/lib/python3.8/site-packages/torchvision/io/video.py?line=274'>275</a>\u001b[0m \u001b[39mif\u001b[39;00m end_pts \u001b[39mis\u001b[39;00m \u001b[39mNone\u001b[39;00m:\n\u001b[1;32m    <a href='file:///Users/senemisik/opt/miniconda3/lib/python3.8/site-packages/torchvision/io/video.py?line=275'>276</a>\u001b[0m     end_pts \u001b[39m=\u001b[39m \u001b[39mfloat\u001b[39m(\u001b[39m\"\u001b[39m\u001b[39minf\u001b[39m\u001b[39m\"\u001b[39m)\n",
            "File \u001b[0;32m~/opt/miniconda3/lib/python3.8/site-packages/torchvision/io/video.py:42\u001b[0m, in \u001b[0;36m_check_av_available\u001b[0;34m()\u001b[0m\n\u001b[1;32m     <a href='file:///Users/senemisik/opt/miniconda3/lib/python3.8/site-packages/torchvision/io/video.py?line=39'>40</a>\u001b[0m \u001b[39mdef\u001b[39;00m \u001b[39m_check_av_available\u001b[39m() \u001b[39m-\u001b[39m\u001b[39m>\u001b[39m \u001b[39mNone\u001b[39;00m:\n\u001b[1;32m     <a href='file:///Users/senemisik/opt/miniconda3/lib/python3.8/site-packages/torchvision/io/video.py?line=40'>41</a>\u001b[0m     \u001b[39mif\u001b[39;00m \u001b[39misinstance\u001b[39m(av, \u001b[39mException\u001b[39;00m):\n\u001b[0;32m---> <a href='file:///Users/senemisik/opt/miniconda3/lib/python3.8/site-packages/torchvision/io/video.py?line=41'>42</a>\u001b[0m         \u001b[39mraise\u001b[39;00m av\n",
            "    \u001b[0;31m[... skipping hidden 1 frame]\u001b[0m\n",
            "\u001b[1;32m/Users/senemisik/Documents/GitHub/cs231n/plot_optical_flow (2).ipynb Cell 7'\u001b[0m in \u001b[0;36m<cell line: 2>\u001b[0;34m()\u001b[0m\n\u001b[1;32m      <a href='vscode-notebook-cell:/Users/senemisik/Documents/GitHub/cs231n/plot_optical_flow%20%282%29.ipynb#ch0000006?line=0'>1</a>\u001b[0m \u001b[39mfrom\u001b[39;00m \u001b[39mtorchvision\u001b[39;00m\u001b[39m.\u001b[39;00m\u001b[39mio\u001b[39;00m \u001b[39mimport\u001b[39;00m read_video\n\u001b[0;32m----> <a href='vscode-notebook-cell:/Users/senemisik/Documents/GitHub/cs231n/plot_optical_flow%20%282%29.ipynb#ch0000006?line=1'>2</a>\u001b[0m frames, _, _ \u001b[39m=\u001b[39m read_video(\u001b[39mstr\u001b[39;49m(video_path))\n\u001b[1;32m      <a href='vscode-notebook-cell:/Users/senemisik/Documents/GitHub/cs231n/plot_optical_flow%20%282%29.ipynb#ch0000006?line=2'>3</a>\u001b[0m frames \u001b[39m=\u001b[39m frames\u001b[39m.\u001b[39mpermute(\u001b[39m0\u001b[39m, \u001b[39m3\u001b[39m, \u001b[39m1\u001b[39m, \u001b[39m2\u001b[39m)  \u001b[39m# (N, H, W, C) -> (N, C, H, W)\u001b[39;00m\n\u001b[1;32m      <a href='vscode-notebook-cell:/Users/senemisik/Documents/GitHub/cs231n/plot_optical_flow%20%282%29.ipynb#ch0000006?line=4'>5</a>\u001b[0m img1_batch \u001b[39m=\u001b[39m torch\u001b[39m.\u001b[39mstack([frames[\u001b[39m100\u001b[39m], frames[\u001b[39m150\u001b[39m]])\n",
            "File \u001b[0;32m~/opt/miniconda3/lib/python3.8/site-packages/torchvision/io/video.py:273\u001b[0m, in \u001b[0;36mread_video\u001b[0;34m(filename, start_pts, end_pts, pts_unit)\u001b[0m\n\u001b[1;32m    <a href='file:///Users/senemisik/opt/miniconda3/lib/python3.8/site-packages/torchvision/io/video.py?line=269'>270</a>\u001b[0m \u001b[39mif\u001b[39;00m get_video_backend() \u001b[39m!=\u001b[39m \u001b[39m\"\u001b[39m\u001b[39mpyav\u001b[39m\u001b[39m\"\u001b[39m:\n\u001b[1;32m    <a href='file:///Users/senemisik/opt/miniconda3/lib/python3.8/site-packages/torchvision/io/video.py?line=270'>271</a>\u001b[0m     \u001b[39mreturn\u001b[39;00m _video_opt\u001b[39m.\u001b[39m_read_video(filename, start_pts, end_pts, pts_unit)\n\u001b[0;32m--> <a href='file:///Users/senemisik/opt/miniconda3/lib/python3.8/site-packages/torchvision/io/video.py?line=272'>273</a>\u001b[0m _check_av_available()\n\u001b[1;32m    <a href='file:///Users/senemisik/opt/miniconda3/lib/python3.8/site-packages/torchvision/io/video.py?line=274'>275</a>\u001b[0m \u001b[39mif\u001b[39;00m end_pts \u001b[39mis\u001b[39;00m \u001b[39mNone\u001b[39;00m:\n\u001b[1;32m    <a href='file:///Users/senemisik/opt/miniconda3/lib/python3.8/site-packages/torchvision/io/video.py?line=275'>276</a>\u001b[0m     end_pts \u001b[39m=\u001b[39m \u001b[39mfloat\u001b[39m(\u001b[39m\"\u001b[39m\u001b[39minf\u001b[39m\u001b[39m\"\u001b[39m)\n",
            "File \u001b[0;32m~/opt/miniconda3/lib/python3.8/site-packages/torchvision/io/video.py:42\u001b[0m, in \u001b[0;36m_check_av_available\u001b[0;34m()\u001b[0m\n\u001b[1;32m     <a href='file:///Users/senemisik/opt/miniconda3/lib/python3.8/site-packages/torchvision/io/video.py?line=39'>40</a>\u001b[0m \u001b[39mdef\u001b[39;00m \u001b[39m_check_av_available\u001b[39m() \u001b[39m-\u001b[39m\u001b[39m>\u001b[39m \u001b[39mNone\u001b[39;00m:\n\u001b[1;32m     <a href='file:///Users/senemisik/opt/miniconda3/lib/python3.8/site-packages/torchvision/io/video.py?line=40'>41</a>\u001b[0m     \u001b[39mif\u001b[39;00m \u001b[39misinstance\u001b[39m(av, \u001b[39mException\u001b[39;00m):\n\u001b[0;32m---> <a href='file:///Users/senemisik/opt/miniconda3/lib/python3.8/site-packages/torchvision/io/video.py?line=41'>42</a>\u001b[0m         \u001b[39mraise\u001b[39;00m av\n",
            "    \u001b[0;31m[... skipping similar frames: <cell line: 2> at line 2 (2 times), _check_av_available at line 42 (2 times), read_video at line 273 (2 times), InteractiveShell.run_code at line 3397 (2 times)]\u001b[0m\n",
            "    \u001b[0;31m[... skipping hidden 1 frame]\u001b[0m\n",
            "\u001b[1;32m/Users/senemisik/Documents/GitHub/cs231n/plot_optical_flow (2).ipynb Cell 7'\u001b[0m in \u001b[0;36m<cell line: 2>\u001b[0;34m()\u001b[0m\n\u001b[1;32m      <a href='vscode-notebook-cell:/Users/senemisik/Documents/GitHub/cs231n/plot_optical_flow%20%282%29.ipynb#ch0000006?line=0'>1</a>\u001b[0m \u001b[39mfrom\u001b[39;00m \u001b[39mtorchvision\u001b[39;00m\u001b[39m.\u001b[39;00m\u001b[39mio\u001b[39;00m \u001b[39mimport\u001b[39;00m read_video\n\u001b[0;32m----> <a href='vscode-notebook-cell:/Users/senemisik/Documents/GitHub/cs231n/plot_optical_flow%20%282%29.ipynb#ch0000006?line=1'>2</a>\u001b[0m frames, _, _ \u001b[39m=\u001b[39m read_video(\u001b[39mstr\u001b[39;49m(video_path))\n\u001b[1;32m      <a href='vscode-notebook-cell:/Users/senemisik/Documents/GitHub/cs231n/plot_optical_flow%20%282%29.ipynb#ch0000006?line=2'>3</a>\u001b[0m frames \u001b[39m=\u001b[39m frames\u001b[39m.\u001b[39mpermute(\u001b[39m0\u001b[39m, \u001b[39m3\u001b[39m, \u001b[39m1\u001b[39m, \u001b[39m2\u001b[39m)  \u001b[39m# (N, H, W, C) -> (N, C, H, W)\u001b[39;00m\n\u001b[1;32m      <a href='vscode-notebook-cell:/Users/senemisik/Documents/GitHub/cs231n/plot_optical_flow%20%282%29.ipynb#ch0000006?line=4'>5</a>\u001b[0m img1_batch \u001b[39m=\u001b[39m torch\u001b[39m.\u001b[39mstack([frames[\u001b[39m100\u001b[39m], frames[\u001b[39m150\u001b[39m]])\n",
            "File \u001b[0;32m~/opt/miniconda3/lib/python3.8/site-packages/torchvision/io/video.py:273\u001b[0m, in \u001b[0;36mread_video\u001b[0;34m(filename, start_pts, end_pts, pts_unit)\u001b[0m\n\u001b[1;32m    <a href='file:///Users/senemisik/opt/miniconda3/lib/python3.8/site-packages/torchvision/io/video.py?line=269'>270</a>\u001b[0m \u001b[39mif\u001b[39;00m get_video_backend() \u001b[39m!=\u001b[39m \u001b[39m\"\u001b[39m\u001b[39mpyav\u001b[39m\u001b[39m\"\u001b[39m:\n\u001b[1;32m    <a href='file:///Users/senemisik/opt/miniconda3/lib/python3.8/site-packages/torchvision/io/video.py?line=270'>271</a>\u001b[0m     \u001b[39mreturn\u001b[39;00m _video_opt\u001b[39m.\u001b[39m_read_video(filename, start_pts, end_pts, pts_unit)\n\u001b[0;32m--> <a href='file:///Users/senemisik/opt/miniconda3/lib/python3.8/site-packages/torchvision/io/video.py?line=272'>273</a>\u001b[0m _check_av_available()\n\u001b[1;32m    <a href='file:///Users/senemisik/opt/miniconda3/lib/python3.8/site-packages/torchvision/io/video.py?line=274'>275</a>\u001b[0m \u001b[39mif\u001b[39;00m end_pts \u001b[39mis\u001b[39;00m \u001b[39mNone\u001b[39;00m:\n\u001b[1;32m    <a href='file:///Users/senemisik/opt/miniconda3/lib/python3.8/site-packages/torchvision/io/video.py?line=275'>276</a>\u001b[0m     end_pts \u001b[39m=\u001b[39m \u001b[39mfloat\u001b[39m(\u001b[39m\"\u001b[39m\u001b[39minf\u001b[39m\u001b[39m\"\u001b[39m)\n",
            "File \u001b[0;32m~/opt/miniconda3/lib/python3.8/site-packages/torchvision/io/video.py:42\u001b[0m, in \u001b[0;36m_check_av_available\u001b[0;34m()\u001b[0m\n\u001b[1;32m     <a href='file:///Users/senemisik/opt/miniconda3/lib/python3.8/site-packages/torchvision/io/video.py?line=39'>40</a>\u001b[0m \u001b[39mdef\u001b[39;00m \u001b[39m_check_av_available\u001b[39m() \u001b[39m-\u001b[39m\u001b[39m>\u001b[39m \u001b[39mNone\u001b[39;00m:\n\u001b[1;32m     <a href='file:///Users/senemisik/opt/miniconda3/lib/python3.8/site-packages/torchvision/io/video.py?line=40'>41</a>\u001b[0m     \u001b[39mif\u001b[39;00m \u001b[39misinstance\u001b[39m(av, \u001b[39mException\u001b[39;00m):\n\u001b[0;32m---> <a href='file:///Users/senemisik/opt/miniconda3/lib/python3.8/site-packages/torchvision/io/video.py?line=41'>42</a>\u001b[0m         \u001b[39mraise\u001b[39;00m av\n",
            "\u001b[0;31mImportError\u001b[0m: PyAV is not installed, and is necessary for the video operations in torchvision.\nSee https://github.com/mikeboers/PyAV#installation for instructions on how to\ninstall PyAV on your system.\n"
          ]
        }
      ],
      "source": [
        "from torchvision.io import read_video\n",
        "frames, _, _ = read_video(str(video_path))\n",
        "frames = frames.permute(0, 3, 1, 2)  # (N, H, W, C) -> (N, C, H, W)\n",
        "\n",
        "img1_batch = torch.stack([frames[100], frames[150]])\n",
        "img2_batch = torch.stack([frames[101], frames[151]])\n",
        "\n",
        "plot(img1_batch)"
      ]
    },
    {
      "cell_type": "markdown",
      "metadata": {},
      "source": [
        "The RAFT model accepts RGB images. We first get the frames from\n",
        ":func:`~torchvision.io.read_video` and resize them to ensure their\n",
        "dimensions are divisible by 8. Then we use the transforms bundled into the\n",
        "weights in order to preprocess the input and rescale its values to the\n",
        "required ``[-1, 1]`` interval.\n",
        "\n"
      ]
    },
    {
      "cell_type": "code",
      "execution_count": 3,
      "metadata": {
        "collapsed": false
      },
      "outputs": [
        {
          "ename": "ImportError",
          "evalue": "cannot import name 'Raft_Large_Weights' from 'torchvision.models.optical_flow' (/Users/senemisik/opt/miniconda3/lib/python3.8/site-packages/torchvision/models/optical_flow/__init__.py)",
          "output_type": "error",
          "traceback": [
            "\u001b[0;31m---------------------------------------------------------------------------\u001b[0m",
            "\u001b[0;31mImportError\u001b[0m                               Traceback (most recent call last)",
            "\u001b[1;32m/Users/senemisik/Documents/GitHub/cs231n/RAFT/plot_optical_flow (2).ipynb Cell 7'\u001b[0m in \u001b[0;36m<cell line: 1>\u001b[0;34m()\u001b[0m\n\u001b[0;32m----> <a href='vscode-notebook-cell:/Users/senemisik/Documents/GitHub/cs231n/RAFT/plot_optical_flow%20%282%29.ipynb#ch0000008?line=0'>1</a>\u001b[0m \u001b[39mfrom\u001b[39;00m \u001b[39mtorchvision\u001b[39;00m\u001b[39m.\u001b[39;00m\u001b[39mmodels\u001b[39;00m\u001b[39m.\u001b[39;00m\u001b[39moptical_flow\u001b[39;00m \u001b[39mimport\u001b[39;00m Raft_Large_Weights\n\u001b[1;32m      <a href='vscode-notebook-cell:/Users/senemisik/Documents/GitHub/cs231n/RAFT/plot_optical_flow%20%282%29.ipynb#ch0000008?line=2'>3</a>\u001b[0m weights \u001b[39m=\u001b[39m Raft_Large_Weights\u001b[39m.\u001b[39mDEFAULT\n\u001b[1;32m      <a href='vscode-notebook-cell:/Users/senemisik/Documents/GitHub/cs231n/RAFT/plot_optical_flow%20%282%29.ipynb#ch0000008?line=3'>4</a>\u001b[0m transforms \u001b[39m=\u001b[39m weights\u001b[39m.\u001b[39mtransforms()\n",
            "\u001b[0;31mImportError\u001b[0m: cannot import name 'Raft_Large_Weights' from 'torchvision.models.optical_flow' (/Users/senemisik/opt/miniconda3/lib/python3.8/site-packages/torchvision/models/optical_flow/__init__.py)"
          ]
        }
      ],
      "source": [
        "from torchvision.models.optical_flow import Raft_Large_Weights\n",
        "\n",
        "weights = Raft_Large_Weights.DEFAULT\n",
        "transforms = weights.transforms()\n",
        "\n",
        "def preprocess(img1_batch, img2_batch):\n",
        "    img1_batch = F.resize(img1_batch, size=[520, 960])\n",
        "    img2_batch = F.resize(img2_batch, size=[520, 960])\n",
        "    return transforms(img1_batch, img2_batch)\n",
        "\n",
        "\n",
        "img1_batch, img2_batch = preprocess(img1_batch, img2_batch)\n",
        "\n",
        "print(f\"shape = {img1_batch.shape}, dtype = {img1_batch.dtype}\")"
      ]
    },
    {
      "cell_type": "markdown",
      "metadata": {},
      "source": [
        "## Estimating Optical flow using RAFT\n",
        "We will use our RAFT implementation from\n",
        ":func:`~torchvision.models.optical_flow.raft_large`, which follows the same\n",
        "architecture as the one described in the `original paper <https://arxiv.org/abs/2003.12039>`_.\n",
        "We also provide the :func:`~torchvision.models.optical_flow.raft_small` model\n",
        "builder, which is smaller and faster to run, sacrificing a bit of accuracy.\n",
        "\n"
      ]
    },
    {
      "cell_type": "code",
      "execution_count": null,
      "metadata": {
        "collapsed": false
      },
      "outputs": [],
      "source": [
        "from torchvision.models.optical_flow import raft_large\n",
        "\n",
        "# If you can, run this example on a GPU, it will be a lot faster.\n",
        "device = \"cuda\" if torch.cuda.is_available() else \"cpu\"\n",
        "\n",
        "model = raft_large(weights=Raft_Large_Weights.DEFAULT, progress=False).to(device)\n",
        "model = model.eval()\n",
        "\n",
        "list_of_flows = model(img1_batch.to(device), img2_batch.to(device))\n",
        "print(f\"type = {type(list_of_flows)}\")\n",
        "print(f\"length = {len(list_of_flows)} = number of iterations of the model\")"
      ]
    },
    {
      "cell_type": "markdown",
      "metadata": {},
      "source": [
        "The RAFT model outputs lists of predicted flows where each entry is a\n",
        "(N, 2, H, W) batch of predicted flows that corresponds to a given \"iteration\"\n",
        "in the model. For more details on the iterative nature of the model, please\n",
        "refer to the `original paper <https://arxiv.org/abs/2003.12039>`_. Here, we\n",
        "are only interested in the final predicted flows (they are the most acccurate\n",
        "ones), so we will just retrieve the last item in the list.\n",
        "\n",
        "As described above, a flow is a tensor with dimensions (2, H, W) (or (N, 2, H,\n",
        "W) for batches of flows) where each entry corresponds to the horizontal and\n",
        "vertical displacement of each pixel from the first image to the second image.\n",
        "Note that the predicted flows are in \"pixel\" unit, they are not normalized\n",
        "w.r.t. the dimensions of the images.\n",
        "\n"
      ]
    },
    {
      "cell_type": "code",
      "execution_count": null,
      "metadata": {
        "collapsed": false
      },
      "outputs": [],
      "source": [
        "predicted_flows = list_of_flows[-1]\n",
        "print(f\"dtype = {predicted_flows.dtype}\")\n",
        "print(f\"shape = {predicted_flows.shape} = (N, 2, H, W)\")\n",
        "print(f\"min = {predicted_flows.min()}, max = {predicted_flows.max()}\")"
      ]
    },
    {
      "cell_type": "markdown",
      "metadata": {},
      "source": [
        "## Visualizing predicted flows\n",
        "Torchvision provides the :func:`~torchvision.utils.flow_to_image` utlity to\n",
        "convert a flow into an RGB image. It also supports batches of flows.\n",
        "each \"direction\" in the flow will be mapped to a given RGB color. In the\n",
        "images below, pixels with similar colors are assumed by the model to be moving\n",
        "in similar directions. The model is properly able to predict the movement of\n",
        "the ball and the player. Note in particular the different predicted direction\n",
        "of the ball in the first image (going to the left) and in the second image\n",
        "(going up).\n",
        "\n"
      ]
    },
    {
      "cell_type": "code",
      "execution_count": null,
      "metadata": {
        "collapsed": false
      },
      "outputs": [],
      "source": [
        "from torchvision.utils import flow_to_image\n",
        "\n",
        "flow_imgs = flow_to_image(predicted_flows)\n",
        "\n",
        "# The images have been mapped into [-1, 1] but for plotting we want them in [0, 1]\n",
        "img1_batch = [(img1 + 1) / 2 for img1 in img1_batch]\n",
        "\n",
        "grid = [[img1, flow_img] for (img1, flow_img) in zip(img1_batch, flow_imgs)]\n",
        "plot(grid)"
      ]
    },
    {
      "cell_type": "markdown",
      "metadata": {},
      "source": [
        "## Bonus: Creating GIFs of predicted flows\n",
        "In the example above we have only shown the predicted flows of 2 pairs of\n",
        "frames. A fun way to apply the Optical Flow models is to run the model on an\n",
        "entire video, and create a new video from all the predicted flows. Below is a\n",
        "snippet that can get you started with this. We comment out the code, because\n",
        "this example is being rendered on a machine without a GPU, and it would take\n",
        "too long to run it.\n",
        "\n"
      ]
    },
    {
      "cell_type": "code",
      "execution_count": null,
      "metadata": {
        "collapsed": false
      },
      "outputs": [],
      "source": [
        "# from torchvision.io import write_jpeg\n",
        "# for i, (img1, img2) in enumerate(zip(frames, frames[1:])):\n",
        "#     # Note: it would be faster to predict batches of flows instead of individual flows\n",
        "#     img1, img2 = preprocess(img1, img2)\n",
        "\n",
        "#     list_of_flows = model(img1.to(device), img1.to(device))\n",
        "#     predicted_flow = list_of_flows[-1][0]\n",
        "#     flow_img = flow_to_image(predicted_flow).to(\"cpu\")\n",
        "#     output_folder = \"/tmp/\"  # Update this to the folder of your choice\n",
        "#     write_jpeg(flow_img, output_folder + f\"predicted_flow_{i}.jpg\")"
      ]
    },
    {
      "cell_type": "markdown",
      "metadata": {},
      "source": [
        "Once the .jpg flow images are saved, you can convert them into a video or a\n",
        "GIF using ffmpeg with e.g.:\n",
        "\n",
        "ffmpeg -f image2 -framerate 30 -i predicted_flow_%d.jpg -loop -1 flow.gif\n",
        "\n"
      ]
    }
  ],
  "metadata": {
    "kernelspec": {
      "display_name": "Python 3",
      "language": "python",
      "name": "python3"
    },
    "language_info": {
      "codemirror_mode": {
        "name": "ipython",
        "version": 3
      },
      "file_extension": ".py",
      "mimetype": "text/x-python",
      "name": "python",
      "nbconvert_exporter": "python",
      "pygments_lexer": "ipython3",
      "version": "3.8.12"
    }
  },
  "nbformat": 4,
  "nbformat_minor": 0
}
