{
 "cells": [
  {
   "cell_type": "code",
   "execution_count": 1,
   "id": "58cf4bd8",
   "metadata": {},
   "outputs": [
    {
     "name": "stderr",
     "output_type": "stream",
     "text": [
      "/home/ubuntu/anaconda3/envs/cs231n/lib/python3.9/site-packages/tqdm/auto.py:22: TqdmWarning: IProgress not found. Please update jupyter and ipywidgets. See https://ipywidgets.readthedocs.io/en/stable/user_install.html\n",
      "  from .autonotebook import tqdm as notebook_tqdm\n"
     ]
    }
   ],
   "source": [
    "from __future__ import print_function, division\n",
    "import argparse\n",
    "import os\n",
    "# import cv2\n",
    "import time\n",
    "import numpy as np\n",
    "import matplotlib.pyplot as plt\n",
    "\n",
    "import torch\n",
    "import torchvision\n",
    "import torch.nn as nn\n",
    "import torch.optim as optim\n",
    "import torch.nn.functional as F\n",
    "from torch.utils.data import DataLoader\n",
    "from tqdm import tqdm"
   ]
  },
  {
   "cell_type": "code",
   "execution_count": 2,
   "id": "a5e6686a",
   "metadata": {},
   "outputs": [],
   "source": [
    "# Sintel Data Handler"
   ]
  },
  {
   "cell_type": "code",
   "execution_count": 3,
   "id": "e2ecc2f1",
   "metadata": {},
   "outputs": [
    {
     "data": {
      "text/plain": [
       "'0.12.0'"
      ]
     },
     "execution_count": 3,
     "metadata": {},
     "output_type": "execute_result"
    }
   ],
   "source": [
    "torchvision.__version__"
   ]
  },
  {
   "cell_type": "code",
   "execution_count": 4,
   "id": "7af341c4",
   "metadata": {},
   "outputs": [],
   "source": [
    "data = torchvision.datasets.Sintel(\".\")"
   ]
  },
  {
   "cell_type": "code",
   "execution_count": 5,
   "id": "6c9ec152",
   "metadata": {},
   "outputs": [],
   "source": [
    "class TSintel(torchvision.datasets.Sintel):\n",
    "    def __init__(self, root):\n",
    "        super().__init__(root=root)\n",
    "        \n",
    "    def __getitem__(self, index):\n",
    "        img1, img2, flow = super().__getitem__(index)\n",
    "        img1 = torchvision.transforms.ToTensor()(img1)\n",
    "        img2 = torchvision.transforms.ToTensor()(img2)\n",
    "        return img1, img2, flow"
   ]
  },
  {
   "cell_type": "code",
   "execution_count": 6,
   "id": "34f4b5f3",
   "metadata": {},
   "outputs": [],
   "source": [
    "Tdata = TSintel(\".\")"
   ]
  },
  {
   "cell_type": "code",
   "execution_count": 7,
   "id": "9ce3029c",
   "metadata": {},
   "outputs": [],
   "source": [
    "train_size = round(len(Tdata) * 0.8)\n",
    "test_size = round(len(Tdata) * 0.2)"
   ]
  },
  {
   "cell_type": "code",
   "execution_count": 8,
   "id": "528695fd",
   "metadata": {},
   "outputs": [],
   "source": [
    "assert train_size + test_size == len(Tdata)"
   ]
  },
  {
   "cell_type": "code",
   "execution_count": 9,
   "id": "72638dd3",
   "metadata": {},
   "outputs": [],
   "source": [
    "train_data, test_data = torch.utils.data.random_split(Tdata, [train_size, test_size], generator=torch.Generator().manual_seed(42))"
   ]
  },
  {
   "cell_type": "code",
   "execution_count": 10,
   "id": "3d6d3594",
   "metadata": {},
   "outputs": [],
   "source": [
    "train_loader = torch.utils.data.DataLoader(train_data, batch_size=6, shuffle=True)\n",
    "test_loader = torch.utils.data.DataLoader(test_data, batch_size=6, shuffle=False)"
   ]
  },
  {
   "cell_type": "code",
   "execution_count": 11,
   "id": "caa6d28e",
   "metadata": {},
   "outputs": [],
   "source": [
    "from RAFT_master.core.raft import RAFT\n",
    "# from RAFT_master import evaluate"
   ]
  },
  {
   "cell_type": "code",
   "execution_count": 21,
   "id": "32722a0a",
   "metadata": {},
   "outputs": [],
   "source": [
    "def sequence_loss(flow_preds, flow_gt, valid, gamma=0.8, max_flow=400):\n",
    "    \"\"\" Loss function defined over sequence of flow predictions \"\"\"\n",
    "\n",
    "    n_predictions = len(flow_preds)    \n",
    "    flow_loss = 0.0\n",
    "\n",
    "    # exlude invalid pixels and extremely large diplacements\n",
    "    mag = torch.sum(flow_gt**2, dim=1).sqrt()\n",
    "#     print(valid.shape)\n",
    "#     print(mag.shape)\n",
    "#     valid = (valid >= 0.5) & (mag < max_flow)\n",
    "\n",
    "    for i in range(n_predictions):\n",
    "        i_weight = gamma**(n_predictions - i - 1)\n",
    "        i_loss = (flow_preds[i] - flow_gt).abs()\n",
    "#         flow_loss += i_weight * (valid[:, None] * i_loss).mean()\n",
    "        flow_loss += i_weight * i_loss.mean()\n",
    "\n",
    "#     epe = torch.sum((flow_preds[-1] - flow_gt)**2, dim=1).sqrt()\n",
    "#     epe = epe.view(-1)[valid.view(-1)]\n",
    "\n",
    "#     metrics = {\n",
    "#         'epe': epe.mean().item(),\n",
    "#         '1px': (epe < 1).float().mean().item(),\n",
    "#         '3px': (epe < 3).float().mean().item(),\n",
    "#         '5px': (epe < 5).float().mean().item(),\n",
    "#     }\n",
    "\n",
    "#     return flow_loss, metrics\n",
    "    return flow_loss"
   ]
  },
  {
   "cell_type": "code",
   "execution_count": 22,
   "id": "54483c23",
   "metadata": {},
   "outputs": [],
   "source": [
    "from torch.cuda.amp import GradScaler"
   ]
  },
  {
   "cell_type": "code",
   "execution_count": 29,
   "id": "96433471",
   "metadata": {},
   "outputs": [],
   "source": [
    "def crop(img1, img2, flow, valid):\n",
    "    crop_size =  [384, 512]\n",
    "    min_scale = -0.2 \n",
    "    max_scale = 0.5\n",
    "    ht, wd = img1.shape[2:]\n",
    "    min_scale1 = np.maximum(\n",
    "        (crop_size[0] + 8) / float(ht), \n",
    "        (crop_size[1] + 8) / float(wd))\n",
    "\n",
    "    scale = 2 ** np.random.uniform(min_scale, max_scale)\n",
    "    scale_x = scale\n",
    "    scale_y = scale\n",
    "\n",
    "    scale_x = np.clip(scale_x, min_scale1, None)\n",
    "    scale_y = np.clip(scale_y, min_scale1, None)\n",
    "    y0 = np.random.randint(0, img1.shape[2] - crop_size[0])\n",
    "    x0 = np.random.randint(0, img1.shape[3] - crop_size[1])\n",
    "\n",
    "    img1 = img1[:, :, y0:y0+crop_size[0], x0:x0+crop_size[1]]\n",
    "    img2 = img2[:, :, y0:y0+crop_size[0], x0:x0+crop_size[1]]\n",
    "    flow = flow[:, :, y0:y0+crop_size[0], x0:x0+crop_size[1]]\n",
    "    \n",
    "    return img1, img2, flow, valid"
   ]
  },
  {
   "cell_type": "code",
   "execution_count": 30,
   "id": "10f83bb4",
   "metadata": {},
   "outputs": [],
   "source": [
    "def train_raft(dataloaders, args):\n",
    "    \n",
    "    train_loader = dataloaders.get(\"train\")\n",
    "    val_loader = dataloaders.get(\"val\")\n",
    "\n",
    "    lr = 0.00002\n",
    "    num_steps = 100000\n",
    "    mixed_precision = True\n",
    "    iters = 12 \n",
    "    wdecay = 0.00005\n",
    "    epsilon =1e-8\n",
    "    clip =1.0\n",
    "    dropout = 0.0\n",
    "    gamma =0.8 # exponential weighting\n",
    "    add_noise = True\n",
    "    \n",
    "    device = torch.device(\"cuda\") if torch.cuda.is_available() else torch.device(\"cpu\")\n",
    "    model = RAFT(args)\n",
    "\n",
    "    optimizer = torch.optim.AdamW(model.parameters(), lr=lr, weight_decay=wdecay, eps=epsilon)\n",
    "    scheduler = torch.optim.lr_scheduler.OneCycleLR(optimizer, lr, num_steps+100, pct_start=0.05, cycle_momentum=False, anneal_strategy='linear')\n",
    "    model = model.to(device) \n",
    "\n",
    "    total_steps = 0\n",
    "    scaler = GradScaler(enabled=mixed_precision)\n",
    "    \n",
    "    add_noise = True\n",
    "    \n",
    "    losses = {\n",
    "        \"train\": [],\n",
    "        \"val\": []\n",
    "    }   \n",
    "    \n",
    "    epochs = 5\n",
    "    \n",
    "    for epoch in range(epochs):\n",
    "    \n",
    "        print(\"Epoch\", str(epoch) + \": \", end=\"\")\n",
    "        train_loss = 0.0\n",
    "        val_loss = 0.0\n",
    "        \n",
    "        # training\n",
    "        model.train()\n",
    "        for i, (image1, image2, flow) in tqdm(enumerate(train_loader)):\n",
    "            if torch.cuda.is_available():\n",
    "                image1, image2, flow = image1.cuda(), image2.cuda(), flow.cuda() # add this line\n",
    "            optimizer.zero_grad()\n",
    "            valid = (flow[0].abs() < 1000) & (flow[1].abs() < 1000)\n",
    "#             if add_noise:\n",
    "#                 stdv = np.random.uniform(0.0, 5.0)\n",
    "#                 image1 = (image1 + stdv * torch.randn(*image1.shape).cuda()).clamp(0.0, 255.0)\n",
    "#                 image2 = (image2 + stdv * torch.randn(*image2.shape).cuda()).clamp(0.0, 255.0)\n",
    "            image1, image2, flow, valid = crop(image1, image2, flow, valid) \n",
    "            flow_predictions = model(image1, image2, iters=iters)\n",
    "            loss = sequence_loss(flow_predictions, flow, valid, gamma)\n",
    "            scaler.scale(loss).backward()\n",
    "            scaler.unscale_(optimizer)                \n",
    "            torch.nn.utils.clip_grad_norm_(model.parameters(), clip)\n",
    "            \n",
    "            scaler.step(optimizer)\n",
    "            scheduler.step()\n",
    "            scaler.update()           \n",
    "            train_loss += loss\n",
    "                  \n",
    "        # validation\n",
    "        model.eval()\n",
    "        with torch.no_grad():\n",
    "            for i, (image1, image2, flow) in enumerate(val_loader):\n",
    "                if torch.cuda.is_available():\n",
    "                    image1, image2, flow = image1.cuda(), image2.cuda(), flow.cuda() # add this line\n",
    "                valid = (flow[0].abs() < 1000) & (flow[1].abs() < 1000)\n",
    "                flow_predictions = model(image1, image2, iters=iters)            \n",
    "                loss = sequence_loss(flow_predictions, flow, valid, gamma)     \n",
    "                val_loss += loss\n",
    "       \n",
    "        val_loss /= len(val_loader)\n",
    "        train_loss /= len(train_loader)\n",
    "\n",
    "        print(\"Train Loss\", train_loss, \"Val Loss\", val_loss)\n",
    "        losses[\"train\"].append(train_loss)\n",
    "        losses[\"val\"].append(val_loss)\n",
    "\n",
    "    return model, loss"
   ]
  },
  {
   "cell_type": "code",
   "execution_count": 31,
   "id": "81774c14",
   "metadata": {},
   "outputs": [
    {
     "name": "stdout",
     "output_type": "stream",
     "text": [
      "Epoch 0: "
     ]
    },
    {
     "name": "stderr",
     "output_type": "stream",
     "text": [
      "139it [05:07,  2.21s/it]\n"
     ]
    },
    {
     "ename": "RuntimeError",
     "evalue": "grid_sampler(): expected grid and input to have same batch size, but got input with sizes [42240, 1, 55, 128] and grid with sizes [41472, 9, 9, 2]",
     "output_type": "error",
     "traceback": [
      "\u001b[0;31m---------------------------------------------------------------------------\u001b[0m",
      "\u001b[0;31mRuntimeError\u001b[0m                              Traceback (most recent call last)",
      "Input \u001b[0;32mIn [31]\u001b[0m, in \u001b[0;36m<cell line: 7>\u001b[0;34m()\u001b[0m\n\u001b[1;32m      2\u001b[0m dataloaders \u001b[38;5;241m=\u001b[39m {\n\u001b[1;32m      3\u001b[0m     \u001b[38;5;124m\"\u001b[39m\u001b[38;5;124mtrain\u001b[39m\u001b[38;5;124m\"\u001b[39m: train_loader,\n\u001b[1;32m      4\u001b[0m     \u001b[38;5;124m\"\u001b[39m\u001b[38;5;124mval\u001b[39m\u001b[38;5;124m\"\u001b[39m: test_loader,\n\u001b[1;32m      5\u001b[0m }\n\u001b[1;32m      6\u001b[0m args \u001b[38;5;241m=\u001b[39m Namespace(add_noise\u001b[38;5;241m=\u001b[39m\u001b[38;5;28;01mFalse\u001b[39;00m, batch_size\u001b[38;5;241m=\u001b[39m\u001b[38;5;241m6\u001b[39m, clip\u001b[38;5;241m=\u001b[39m\u001b[38;5;241m1.0\u001b[39m, dropout\u001b[38;5;241m=\u001b[39m\u001b[38;5;241m0.0\u001b[39m, epsilon\u001b[38;5;241m=\u001b[39m\u001b[38;5;241m1e-08\u001b[39m, gamma\u001b[38;5;241m=\u001b[39m\u001b[38;5;241m0.8\u001b[39m, gpus\u001b[38;5;241m=\u001b[39m[\u001b[38;5;241m0\u001b[39m, \u001b[38;5;241m1\u001b[39m], image_size\u001b[38;5;241m=\u001b[39m[\u001b[38;5;241m384\u001b[39m, \u001b[38;5;241m512\u001b[39m], iters\u001b[38;5;241m=\u001b[39m\u001b[38;5;241m12\u001b[39m, lr\u001b[38;5;241m=\u001b[39m\u001b[38;5;241m2e-05\u001b[39m, mixed_precision\u001b[38;5;241m=\u001b[39m\u001b[38;5;28;01mFalse\u001b[39;00m, name\u001b[38;5;241m=\u001b[39m\u001b[38;5;124m'\u001b[39m\u001b[38;5;124mraft\u001b[39m\u001b[38;5;124m'\u001b[39m, num_steps\u001b[38;5;241m=\u001b[39m\u001b[38;5;241m100000\u001b[39m, restore_ckpt\u001b[38;5;241m=\u001b[39m\u001b[38;5;28;01mNone\u001b[39;00m, small\u001b[38;5;241m=\u001b[39m\u001b[38;5;28;01mFalse\u001b[39;00m, stage\u001b[38;5;241m=\u001b[39m\u001b[38;5;28;01mNone\u001b[39;00m, validation\u001b[38;5;241m=\u001b[39m\u001b[38;5;28;01mNone\u001b[39;00m, wdecay\u001b[38;5;241m=\u001b[39m\u001b[38;5;241m5e-05\u001b[39m)\n\u001b[0;32m----> 7\u001b[0m \u001b[43mtrain_raft\u001b[49m\u001b[43m(\u001b[49m\u001b[43mdataloaders\u001b[49m\u001b[43m,\u001b[49m\u001b[43m \u001b[49m\u001b[43margs\u001b[49m\u001b[43m)\u001b[49m\n",
      "Input \u001b[0;32mIn [30]\u001b[0m, in \u001b[0;36mtrain_raft\u001b[0;34m(dataloaders, args)\u001b[0m\n\u001b[1;32m     70\u001b[0m     image1, image2, flow \u001b[38;5;241m=\u001b[39m image1\u001b[38;5;241m.\u001b[39mcuda(), image2\u001b[38;5;241m.\u001b[39mcuda(), flow\u001b[38;5;241m.\u001b[39mcuda() \u001b[38;5;66;03m# add this line\u001b[39;00m\n\u001b[1;32m     71\u001b[0m valid \u001b[38;5;241m=\u001b[39m (flow[\u001b[38;5;241m0\u001b[39m]\u001b[38;5;241m.\u001b[39mabs() \u001b[38;5;241m<\u001b[39m \u001b[38;5;241m1000\u001b[39m) \u001b[38;5;241m&\u001b[39m (flow[\u001b[38;5;241m1\u001b[39m]\u001b[38;5;241m.\u001b[39mabs() \u001b[38;5;241m<\u001b[39m \u001b[38;5;241m1000\u001b[39m)\n\u001b[0;32m---> 72\u001b[0m flow_predictions \u001b[38;5;241m=\u001b[39m \u001b[43mmodel\u001b[49m\u001b[43m(\u001b[49m\u001b[43mimage1\u001b[49m\u001b[43m,\u001b[49m\u001b[43m \u001b[49m\u001b[43mimage2\u001b[49m\u001b[43m,\u001b[49m\u001b[43m \u001b[49m\u001b[43miters\u001b[49m\u001b[38;5;241;43m=\u001b[39;49m\u001b[43miters\u001b[49m\u001b[43m)\u001b[49m            \n\u001b[1;32m     73\u001b[0m loss \u001b[38;5;241m=\u001b[39m sequence_loss(flow_predictions, flow, valid, gamma)     \n\u001b[1;32m     74\u001b[0m val_loss \u001b[38;5;241m+\u001b[39m\u001b[38;5;241m=\u001b[39m loss\n",
      "File \u001b[0;32m~/anaconda3/envs/cs231n/lib/python3.9/site-packages/torch/nn/modules/module.py:1110\u001b[0m, in \u001b[0;36mModule._call_impl\u001b[0;34m(self, *input, **kwargs)\u001b[0m\n\u001b[1;32m   1106\u001b[0m \u001b[38;5;66;03m# If we don't have any hooks, we want to skip the rest of the logic in\u001b[39;00m\n\u001b[1;32m   1107\u001b[0m \u001b[38;5;66;03m# this function, and just call forward.\u001b[39;00m\n\u001b[1;32m   1108\u001b[0m \u001b[38;5;28;01mif\u001b[39;00m \u001b[38;5;129;01mnot\u001b[39;00m (\u001b[38;5;28mself\u001b[39m\u001b[38;5;241m.\u001b[39m_backward_hooks \u001b[38;5;129;01mor\u001b[39;00m \u001b[38;5;28mself\u001b[39m\u001b[38;5;241m.\u001b[39m_forward_hooks \u001b[38;5;129;01mor\u001b[39;00m \u001b[38;5;28mself\u001b[39m\u001b[38;5;241m.\u001b[39m_forward_pre_hooks \u001b[38;5;129;01mor\u001b[39;00m _global_backward_hooks\n\u001b[1;32m   1109\u001b[0m         \u001b[38;5;129;01mor\u001b[39;00m _global_forward_hooks \u001b[38;5;129;01mor\u001b[39;00m _global_forward_pre_hooks):\n\u001b[0;32m-> 1110\u001b[0m     \u001b[38;5;28;01mreturn\u001b[39;00m \u001b[43mforward_call\u001b[49m\u001b[43m(\u001b[49m\u001b[38;5;241;43m*\u001b[39;49m\u001b[38;5;28;43minput\u001b[39;49m\u001b[43m,\u001b[49m\u001b[43m \u001b[49m\u001b[38;5;241;43m*\u001b[39;49m\u001b[38;5;241;43m*\u001b[39;49m\u001b[43mkwargs\u001b[49m\u001b[43m)\u001b[49m\n\u001b[1;32m   1111\u001b[0m \u001b[38;5;66;03m# Do not call functions when jit is used\u001b[39;00m\n\u001b[1;32m   1112\u001b[0m full_backward_hooks, non_full_backward_hooks \u001b[38;5;241m=\u001b[39m [], []\n",
      "File \u001b[0;32m~/cs231n/RAFT_master/core/raft.py:124\u001b[0m, in \u001b[0;36mRAFT.forward\u001b[0;34m(self, image1, image2, iters, flow_init, upsample, test_mode)\u001b[0m\n\u001b[1;32m    122\u001b[0m \u001b[38;5;28;01mfor\u001b[39;00m itr \u001b[38;5;129;01min\u001b[39;00m \u001b[38;5;28mrange\u001b[39m(iters):\n\u001b[1;32m    123\u001b[0m     coords1 \u001b[38;5;241m=\u001b[39m coords1\u001b[38;5;241m.\u001b[39mdetach()\n\u001b[0;32m--> 124\u001b[0m     corr \u001b[38;5;241m=\u001b[39m \u001b[43mcorr_fn\u001b[49m\u001b[43m(\u001b[49m\u001b[43mcoords1\u001b[49m\u001b[43m)\u001b[49m \u001b[38;5;66;03m# index correlation volume\u001b[39;00m\n\u001b[1;32m    126\u001b[0m     flow \u001b[38;5;241m=\u001b[39m coords1 \u001b[38;5;241m-\u001b[39m coords0\n\u001b[1;32m    127\u001b[0m     \u001b[38;5;28;01mwith\u001b[39;00m autocast(enabled\u001b[38;5;241m=\u001b[39m\u001b[38;5;28mself\u001b[39m\u001b[38;5;241m.\u001b[39margs\u001b[38;5;241m.\u001b[39mmixed_precision):\n",
      "File \u001b[0;32m~/cs231n/RAFT_master/core/corr.py:45\u001b[0m, in \u001b[0;36mCorrBlock.__call__\u001b[0;34m(self, coords)\u001b[0m\n\u001b[1;32m     42\u001b[0m delta_lvl \u001b[38;5;241m=\u001b[39m delta\u001b[38;5;241m.\u001b[39mview(\u001b[38;5;241m1\u001b[39m, \u001b[38;5;241m2\u001b[39m\u001b[38;5;241m*\u001b[39mr\u001b[38;5;241m+\u001b[39m\u001b[38;5;241m1\u001b[39m, \u001b[38;5;241m2\u001b[39m\u001b[38;5;241m*\u001b[39mr\u001b[38;5;241m+\u001b[39m\u001b[38;5;241m1\u001b[39m, \u001b[38;5;241m2\u001b[39m)\n\u001b[1;32m     43\u001b[0m coords_lvl \u001b[38;5;241m=\u001b[39m centroid_lvl \u001b[38;5;241m+\u001b[39m delta_lvl\n\u001b[0;32m---> 45\u001b[0m corr \u001b[38;5;241m=\u001b[39m \u001b[43mbilinear_sampler\u001b[49m\u001b[43m(\u001b[49m\u001b[43mcorr\u001b[49m\u001b[43m,\u001b[49m\u001b[43m \u001b[49m\u001b[43mcoords_lvl\u001b[49m\u001b[43m)\u001b[49m\n\u001b[1;32m     46\u001b[0m corr \u001b[38;5;241m=\u001b[39m corr\u001b[38;5;241m.\u001b[39mview(batch, h1, w1, \u001b[38;5;241m-\u001b[39m\u001b[38;5;241m1\u001b[39m)\n\u001b[1;32m     47\u001b[0m out_pyramid\u001b[38;5;241m.\u001b[39mappend(corr)\n",
      "File \u001b[0;32m~/cs231n/RAFT_master/core/utils/utils.py:65\u001b[0m, in \u001b[0;36mbilinear_sampler\u001b[0;34m(img, coords, mode, mask)\u001b[0m\n\u001b[1;32m     62\u001b[0m ygrid \u001b[38;5;241m=\u001b[39m \u001b[38;5;241m2\u001b[39m\u001b[38;5;241m*\u001b[39mygrid\u001b[38;5;241m/\u001b[39m(H\u001b[38;5;241m-\u001b[39m\u001b[38;5;241m1\u001b[39m) \u001b[38;5;241m-\u001b[39m \u001b[38;5;241m1\u001b[39m\n\u001b[1;32m     64\u001b[0m grid \u001b[38;5;241m=\u001b[39m torch\u001b[38;5;241m.\u001b[39mcat([xgrid, ygrid], dim\u001b[38;5;241m=\u001b[39m\u001b[38;5;241m-\u001b[39m\u001b[38;5;241m1\u001b[39m)\n\u001b[0;32m---> 65\u001b[0m img \u001b[38;5;241m=\u001b[39m \u001b[43mF\u001b[49m\u001b[38;5;241;43m.\u001b[39;49m\u001b[43mgrid_sample\u001b[49m\u001b[43m(\u001b[49m\u001b[43mimg\u001b[49m\u001b[43m,\u001b[49m\u001b[43m \u001b[49m\u001b[43mgrid\u001b[49m\u001b[43m,\u001b[49m\u001b[43m \u001b[49m\u001b[43malign_corners\u001b[49m\u001b[38;5;241;43m=\u001b[39;49m\u001b[38;5;28;43;01mTrue\u001b[39;49;00m\u001b[43m)\u001b[49m\n\u001b[1;32m     67\u001b[0m \u001b[38;5;28;01mif\u001b[39;00m mask:\n\u001b[1;32m     68\u001b[0m     mask \u001b[38;5;241m=\u001b[39m (xgrid \u001b[38;5;241m>\u001b[39m \u001b[38;5;241m-\u001b[39m\u001b[38;5;241m1\u001b[39m) \u001b[38;5;241m&\u001b[39m (ygrid \u001b[38;5;241m>\u001b[39m \u001b[38;5;241m-\u001b[39m\u001b[38;5;241m1\u001b[39m) \u001b[38;5;241m&\u001b[39m (xgrid \u001b[38;5;241m<\u001b[39m \u001b[38;5;241m1\u001b[39m) \u001b[38;5;241m&\u001b[39m (ygrid \u001b[38;5;241m<\u001b[39m \u001b[38;5;241m1\u001b[39m)\n",
      "File \u001b[0;32m~/anaconda3/envs/cs231n/lib/python3.9/site-packages/torch/nn/functional.py:4201\u001b[0m, in \u001b[0;36mgrid_sample\u001b[0;34m(input, grid, mode, padding_mode, align_corners)\u001b[0m\n\u001b[1;32m   4193\u001b[0m     warnings\u001b[38;5;241m.\u001b[39mwarn(\n\u001b[1;32m   4194\u001b[0m         \u001b[38;5;124m\"\u001b[39m\u001b[38;5;124mDefault grid_sample and affine_grid behavior has changed \u001b[39m\u001b[38;5;124m\"\u001b[39m\n\u001b[1;32m   4195\u001b[0m         \u001b[38;5;124m\"\u001b[39m\u001b[38;5;124mto align_corners=False since 1.3.0. Please specify \u001b[39m\u001b[38;5;124m\"\u001b[39m\n\u001b[1;32m   4196\u001b[0m         \u001b[38;5;124m\"\u001b[39m\u001b[38;5;124malign_corners=True if the old behavior is desired. \u001b[39m\u001b[38;5;124m\"\u001b[39m\n\u001b[1;32m   4197\u001b[0m         \u001b[38;5;124m\"\u001b[39m\u001b[38;5;124mSee the documentation of grid_sample for details.\u001b[39m\u001b[38;5;124m\"\u001b[39m\n\u001b[1;32m   4198\u001b[0m     )\n\u001b[1;32m   4199\u001b[0m     align_corners \u001b[38;5;241m=\u001b[39m \u001b[38;5;28;01mFalse\u001b[39;00m\n\u001b[0;32m-> 4201\u001b[0m \u001b[38;5;28;01mreturn\u001b[39;00m \u001b[43mtorch\u001b[49m\u001b[38;5;241;43m.\u001b[39;49m\u001b[43mgrid_sampler\u001b[49m\u001b[43m(\u001b[49m\u001b[38;5;28;43minput\u001b[39;49m\u001b[43m,\u001b[49m\u001b[43m \u001b[49m\u001b[43mgrid\u001b[49m\u001b[43m,\u001b[49m\u001b[43m \u001b[49m\u001b[43mmode_enum\u001b[49m\u001b[43m,\u001b[49m\u001b[43m \u001b[49m\u001b[43mpadding_mode_enum\u001b[49m\u001b[43m,\u001b[49m\u001b[43m \u001b[49m\u001b[43malign_corners\u001b[49m\u001b[43m)\u001b[49m\n",
      "\u001b[0;31mRuntimeError\u001b[0m: grid_sampler(): expected grid and input to have same batch size, but got input with sizes [42240, 1, 55, 128] and grid with sizes [41472, 9, 9, 2]"
     ]
    }
   ],
   "source": [
    "from argparse import Namespace\n",
    "dataloaders = {\n",
    "    \"train\": train_loader,\n",
    "    \"val\": test_loader,\n",
    "}\n",
    "args = Namespace(add_noise=False, batch_size=6, clip=1.0, dropout=0.0, epsilon=1e-08, gamma=0.8, gpus=[0, 1], image_size=[384, 512], iters=12, lr=2e-05, mixed_precision=False, name='raft', num_steps=100000, restore_ckpt=None, small=False, stage=None, validation=None, wdecay=5e-05)\n",
    "train_raft(dataloaders, args)"
   ]
  },
  {
   "cell_type": "code",
   "execution_count": null,
   "id": "6eae59e8",
   "metadata": {},
   "outputs": [],
   "source": [
    "torch.save(model.state_dict(), \"raft_sintel.pt\")"
   ]
  },
  {
   "cell_type": "code",
   "execution_count": null,
   "id": "492af21e",
   "metadata": {},
   "outputs": [],
   "source": [
    "plt.style.use('seaborn')"
   ]
  },
  {
   "cell_type": "code",
   "execution_count": null,
   "id": "886a968b",
   "metadata": {},
   "outputs": [],
   "source": [
    "plt.figure()\n",
    "\n",
    "plt.xlabel(\"Epochs\")\n",
    "plt.ylabel(\"Loss\")\n",
    "plt.plot(range(len(flownet_losses[\"train\"])), flownet_losses[\"train\"], label=\"Train\")\n",
    "plt.plot(range(len(flownet_losses[\"val\"])), flownet_losses[\"val\"], label=\"Val\")\n",
    "plt.legend()"
   ]
  },
  {
   "cell_type": "code",
   "execution_count": null,
   "id": "63c09995",
   "metadata": {},
   "outputs": [],
   "source": [
    "i = 160\n",
    "output = model(torch.cat((Tdata[i][0], Tdata[i][1]), dim=0).unsqueeze(dim=0).to(device='cuda'))\n",
    "img_size = Tdata[i][0].shape[1:]\n",
    "output = torch.nn.functional.interpolate(output, size=img_size, mode=\"bilinear\", align_corners=False).squeeze()"
   ]
  },
  {
   "cell_type": "code",
   "execution_count": null,
   "id": "4f416391",
   "metadata": {},
   "outputs": [],
   "source": [
    "torchvision.transforms.ToPILImage()(Tdata[i][0])"
   ]
  },
  {
   "cell_type": "code",
   "execution_count": null,
   "id": "b8def19e",
   "metadata": {},
   "outputs": [],
   "source": [
    "torchvision.transforms.ToPILImage()(torchvision.utils.flow_to_image(output))"
   ]
  }
 ],
 "metadata": {
  "kernelspec": {
   "display_name": "cs231n",
   "language": "python",
   "name": "cs231n"
  },
  "language_info": {
   "codemirror_mode": {
    "name": "ipython",
    "version": 3
   },
   "file_extension": ".py",
   "mimetype": "text/x-python",
   "name": "python",
   "nbconvert_exporter": "python",
   "pygments_lexer": "ipython3",
   "version": "3.9.12"
  }
 },
 "nbformat": 4,
 "nbformat_minor": 5
}
