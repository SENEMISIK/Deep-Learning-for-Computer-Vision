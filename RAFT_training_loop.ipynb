{
 "cells": [
  {
   "cell_type": "code",
   "execution_count": 1,
   "id": "58cf4bd8",
   "metadata": {},
   "outputs": [
    {
     "name": "stderr",
     "output_type": "stream",
     "text": [
      "/home/ubuntu/anaconda3/envs/cs231n/lib/python3.9/site-packages/tqdm/auto.py:22: TqdmWarning: IProgress not found. Please update jupyter and ipywidgets. See https://ipywidgets.readthedocs.io/en/stable/user_install.html\n",
      "  from .autonotebook import tqdm as notebook_tqdm\n"
     ]
    }
   ],
   "source": [
    "from __future__ import print_function, division\n",
    "import argparse\n",
    "import os\n",
    "# import cv2\n",
    "import time\n",
    "import numpy as np\n",
    "import matplotlib.pyplot as plt\n",
    "\n",
    "import torch\n",
    "import torchvision\n",
    "import torch.nn as nn\n",
    "import torch.optim as optim\n",
    "import torch.nn.functional as F\n",
    "from torch.utils.data import DataLoader\n",
    "from tqdm import tqdm"
   ]
  },
  {
   "cell_type": "code",
   "execution_count": 2,
   "id": "07bcce93",
   "metadata": {},
   "outputs": [],
   "source": [
    "# Sintel Data Handler"
   ]
  },
  {
   "cell_type": "code",
   "execution_count": 3,
   "id": "e4a3845f",
   "metadata": {},
   "outputs": [
    {
     "data": {
      "text/plain": [
       "'0.12.0'"
      ]
     },
     "execution_count": 3,
     "metadata": {},
     "output_type": "execute_result"
    }
   ],
   "source": [
    "torchvision.__version__"
   ]
  },
  {
   "cell_type": "code",
   "execution_count": 4,
   "id": "0fb9dd7e",
   "metadata": {},
   "outputs": [],
   "source": [
    "data = torchvision.datasets.Sintel(\".\")"
   ]
  },
  {
   "cell_type": "code",
   "execution_count": 5,
   "id": "bceadff4",
   "metadata": {},
   "outputs": [],
   "source": [
    "class TSintel(torchvision.datasets.Sintel):\n",
    "    def __init__(self, root):\n",
    "        super().__init__(root=root)\n",
    "        \n",
    "    def __getitem__(self, index):\n",
    "        img1, img2, flow = super().__getitem__(index)\n",
    "        img1 = torchvision.transforms.ToTensor()(img1)\n",
    "        img2 = torchvision.transforms.ToTensor()(img2)\n",
    "        return img1, img2, flow"
   ]
  },
  {
   "cell_type": "code",
   "execution_count": 6,
   "id": "eb6e660c",
   "metadata": {},
   "outputs": [],
   "source": [
    "Tdata = TSintel(\".\")"
   ]
  },
  {
   "cell_type": "code",
   "execution_count": 7,
   "id": "9bc4176d",
   "metadata": {},
   "outputs": [],
   "source": [
    "train_size = round(len(Tdata) * 0.8)\n",
    "test_size = round(len(Tdata) * 0.2)"
   ]
  },
  {
   "cell_type": "code",
   "execution_count": 8,
   "id": "8924814e",
   "metadata": {},
   "outputs": [],
   "source": [
    "assert train_size + test_size == len(Tdata)"
   ]
  },
  {
   "cell_type": "code",
   "execution_count": 9,
   "id": "1719f096",
   "metadata": {},
   "outputs": [],
   "source": [
    "train_data, test_data = torch.utils.data.random_split(Tdata, [train_size, test_size], generator=torch.Generator().manual_seed(42))"
   ]
  },
  {
   "cell_type": "code",
   "execution_count": 10,
   "id": "83f35cdc",
   "metadata": {},
   "outputs": [],
   "source": [
    "train_loader = torch.utils.data.DataLoader(train_data, batch_size=16, shuffle=True)\n",
    "test_loader = torch.utils.data.DataLoader(test_data, batch_size=16, shuffle=False)"
   ]
  },
  {
   "cell_type": "code",
   "execution_count": 11,
   "id": "caa6d28e",
   "metadata": {},
   "outputs": [],
   "source": [
    "from RAFT_master.core.raft import RAFT\n",
    "# from RAFT_master import evaluate"
   ]
  },
  {
   "cell_type": "code",
   "execution_count": 12,
   "id": "32722a0a",
   "metadata": {},
   "outputs": [],
   "source": [
    "def sequence_loss(flow_preds, flow_gt, valid, gamma=0.8, max_flow=400):\n",
    "    \"\"\" Loss function defined over sequence of flow predictions \"\"\"\n",
    "\n",
    "    n_predictions = len(flow_preds)    \n",
    "    flow_loss = 0.0\n",
    "\n",
    "    # exlude invalid pixels and extremely large diplacements\n",
    "    mag = torch.sum(flow_gt**2, dim=1).sqrt()\n",
    "    valid = (valid >= 0.5) & (mag < max_flow)\n",
    "\n",
    "    for i in range(n_predictions):\n",
    "        i_weight = gamma**(n_predictions - i - 1)\n",
    "        i_loss = (flow_preds[i] - flow_gt).abs()\n",
    "        flow_loss += i_weight * (valid[:, None] * i_loss).mean()\n",
    "\n",
    "    epe = torch.sum((flow_preds[-1] - flow_gt)**2, dim=1).sqrt()\n",
    "    epe = epe.view(-1)[valid.view(-1)]\n",
    "\n",
    "    metrics = {\n",
    "        'epe': epe.mean().item(),\n",
    "        '1px': (epe < 1).float().mean().item(),\n",
    "        '3px': (epe < 3).float().mean().item(),\n",
    "        '5px': (epe < 5).float().mean().item(),\n",
    "    }\n",
    "\n",
    "    return flow_loss, metrics"
   ]
  },
  {
   "cell_type": "code",
   "execution_count": 13,
   "id": "54483c23",
   "metadata": {},
   "outputs": [],
   "source": [
    "from torch.cuda.amp import GradScaler"
   ]
  },
  {
   "cell_type": "code",
   "execution_count": 14,
   "id": "d06e6b8e",
   "metadata": {},
   "outputs": [],
   "source": [
    "def train_raft(dataloaders, args):\n",
    "    \n",
    "    train_loader = dataloaders.get(\"train\")\n",
    "    val_loader = dataloaders.get(\"val\")\n",
    "\n",
    "    lr = 0.00002\n",
    "    num_steps = 100000\n",
    "    mixed_precision = True\n",
    "    iters = 12 \n",
    "    wdecay = 0.00005\n",
    "    epsilon =1e-8\n",
    "    clip =1.0\n",
    "    dropout = 0.0\n",
    "    gamma =0.8 # exponential weighting\n",
    "    add_noise = True\n",
    "    \n",
    "    device = torch.device(\"cuda\") if torch.cuda.is_available() else torch.device(\"cpu\")\n",
    "    model = RAFT(args)\n",
    "\n",
    "    optimizer = torch.optim.AdamW(model.parameters(), lr=lr, weight_decay=wdecay, eps=epsilon)\n",
    "    scheduler = torch.optim.lr_scheduler.OneCycleLR(optimizer, lr, num_steps+100, pct_start=0.05, cycle_momentum=False, anneal_strategy='linear')\n",
    "    model = model.to(device) \n",
    "\n",
    "    total_steps = 0\n",
    "    scaler = GradScaler(enabled=mixed_precision)\n",
    "    \n",
    "    add_noise = True\n",
    "    \n",
    "    losses = {\n",
    "        \"train\": [],\n",
    "        \"val\": []\n",
    "    }   \n",
    "    \n",
    "    epochs = 100\n",
    "    \n",
    "    for epoch in range(epochs):\n",
    "    \n",
    "        print(\"Epoch\", str(epoch) + \": \", end=\"\")\n",
    "        train_loss = 0.0\n",
    "        val_loss = 0.0\n",
    "        \n",
    "        # training\n",
    "        model.train()\n",
    "        for i, (image1, image2, flow) in tqdm(enumerate(train_loader)):\n",
    "            image1, image2, flow = image1.cuda(), image2.cuda(), flow.cuda() # add this line\n",
    "            optimizer.zero_grad()\n",
    "            valid = (flow[0].abs() < 1000) & (flow[1].abs() < 1000)\n",
    "            if add_noise:\n",
    "                stdv = np.random.uniform(0.0, 5.0)\n",
    "                image1 = (image1 + stdv * torch.randn(*image1.shape).cuda()).clamp(0.0, 255.0)\n",
    "                image2 = (image2 + stdv * torch.randn(*image2.shape).cuda()).clamp(0.0, 255.0)\n",
    "                \n",
    "            flow_predictions = model(image1, image2, iters=iters)\n",
    "            loss, metrics = sequence_loss(flow_predictions, flow, valid, gamma)\n",
    "            scaler.scale(loss).backward()\n",
    "            scaler.unscale_(optimizer)                \n",
    "            torch.nn.utils.clip_grad_norm_(model.parameters(), clip)\n",
    "            \n",
    "            scaler.step(optimizer)\n",
    "            scheduler.step()\n",
    "            scaler.update()           \n",
    "            train_loss += loss\n",
    "                  \n",
    "        # validation\n",
    "        model.eval()\n",
    "        with torch.no_grad():\n",
    "            for i, (image1, image2, flow) in enumerate(val_loader):\n",
    "                image1, image2, flow = image1.cuda(), image2.cuda(), flow.cuda() # add this line\n",
    "                valid = (flow[0].abs() < 1000) & (flow[1].abs() < 1000)\n",
    "                flow_predictions = model(image1, image2, iters=iters)            \n",
    "                loss, metrics = sequence_loss(flow_predictions, flow, valid, gamma)     \n",
    "                val_loss += loss\n",
    "       \n",
    "        val_loss /= len(val_loader)\n",
    "        train_loss /= len(train_loader)\n",
    "\n",
    "        print(\"Train Loss\", train_loss, \"Val Loss\", val_loss)\n",
    "        losses[\"train\"].append(train_loss)\n",
    "        losses[\"val\"].append(val_loss)\n",
    "\n",
    "    return model, loss"
   ]
  },
  {
   "cell_type": "code",
   "execution_count": 15,
   "id": "0e69c531",
   "metadata": {},
   "outputs": [
    {
     "name": "stdout",
     "output_type": "stream",
     "text": [
      "Epoch 0: "
     ]
    },
    {
     "name": "stderr",
     "output_type": "stream",
     "text": [
      "0it [00:00, ?it/s]\n"
     ]
    },
    {
     "ename": "IndexError",
     "evalue": "index 1 is out of bounds for dimension 0 with size 1",
     "output_type": "error",
     "traceback": [
      "\u001b[0;31m---------------------------------------------------------------------------\u001b[0m",
      "\u001b[0;31mIndexError\u001b[0m                                Traceback (most recent call last)",
      "Input \u001b[0;32mIn [15]\u001b[0m, in \u001b[0;36m<cell line: 7>\u001b[0;34m()\u001b[0m\n\u001b[1;32m      2\u001b[0m dataloaders \u001b[38;5;241m=\u001b[39m {\n\u001b[1;32m      3\u001b[0m     \u001b[38;5;124m\"\u001b[39m\u001b[38;5;124mtrain\u001b[39m\u001b[38;5;124m\"\u001b[39m: train_loader,\n\u001b[1;32m      4\u001b[0m     \u001b[38;5;124m\"\u001b[39m\u001b[38;5;124mval\u001b[39m\u001b[38;5;124m\"\u001b[39m: test_loader,\n\u001b[1;32m      5\u001b[0m }\n\u001b[1;32m      6\u001b[0m args \u001b[38;5;241m=\u001b[39m Namespace(add_noise\u001b[38;5;241m=\u001b[39m\u001b[38;5;28;01mFalse\u001b[39;00m, batch_size\u001b[38;5;241m=\u001b[39m\u001b[38;5;241m6\u001b[39m, clip\u001b[38;5;241m=\u001b[39m\u001b[38;5;241m1.0\u001b[39m, dropout\u001b[38;5;241m=\u001b[39m\u001b[38;5;241m0.0\u001b[39m, epsilon\u001b[38;5;241m=\u001b[39m\u001b[38;5;241m1e-08\u001b[39m, gamma\u001b[38;5;241m=\u001b[39m\u001b[38;5;241m0.8\u001b[39m, gpus\u001b[38;5;241m=\u001b[39m[\u001b[38;5;241m0\u001b[39m, \u001b[38;5;241m1\u001b[39m], image_size\u001b[38;5;241m=\u001b[39m[\u001b[38;5;241m384\u001b[39m, \u001b[38;5;241m512\u001b[39m], iters\u001b[38;5;241m=\u001b[39m\u001b[38;5;241m12\u001b[39m, lr\u001b[38;5;241m=\u001b[39m\u001b[38;5;241m2e-05\u001b[39m, mixed_precision\u001b[38;5;241m=\u001b[39m\u001b[38;5;28;01mFalse\u001b[39;00m, name\u001b[38;5;241m=\u001b[39m\u001b[38;5;124m'\u001b[39m\u001b[38;5;124mraft\u001b[39m\u001b[38;5;124m'\u001b[39m, num_steps\u001b[38;5;241m=\u001b[39m\u001b[38;5;241m100000\u001b[39m, restore_ckpt\u001b[38;5;241m=\u001b[39m\u001b[38;5;28;01mNone\u001b[39;00m, small\u001b[38;5;241m=\u001b[39m\u001b[38;5;28;01mFalse\u001b[39;00m, stage\u001b[38;5;241m=\u001b[39m\u001b[38;5;28;01mNone\u001b[39;00m, validation\u001b[38;5;241m=\u001b[39m\u001b[38;5;28;01mNone\u001b[39;00m, wdecay\u001b[38;5;241m=\u001b[39m\u001b[38;5;241m5e-05\u001b[39m)\n\u001b[0;32m----> 7\u001b[0m \u001b[43mtrain_raft\u001b[49m\u001b[43m(\u001b[49m\u001b[43mdataloaders\u001b[49m\u001b[43m,\u001b[49m\u001b[43m \u001b[49m\u001b[43margs\u001b[49m\u001b[43m)\u001b[49m\n",
      "Input \u001b[0;32mIn [14]\u001b[0m, in \u001b[0;36mtrain_raft\u001b[0;34m(dataloaders, args)\u001b[0m\n\u001b[1;32m     45\u001b[0m image1, image2, flow \u001b[38;5;241m=\u001b[39m image1\u001b[38;5;241m.\u001b[39mcuda(), image2\u001b[38;5;241m.\u001b[39mcuda(), flow\u001b[38;5;241m.\u001b[39mcuda() \u001b[38;5;66;03m# add this line\u001b[39;00m\n\u001b[1;32m     46\u001b[0m optimizer\u001b[38;5;241m.\u001b[39mzero_grad()\n\u001b[0;32m---> 47\u001b[0m valid \u001b[38;5;241m=\u001b[39m (flow[\u001b[38;5;241m0\u001b[39m]\u001b[38;5;241m.\u001b[39mabs() \u001b[38;5;241m<\u001b[39m \u001b[38;5;241m1000\u001b[39m) \u001b[38;5;241m&\u001b[39m (\u001b[43mflow\u001b[49m\u001b[43m[\u001b[49m\u001b[38;5;241;43m1\u001b[39;49m\u001b[43m]\u001b[49m\u001b[38;5;241m.\u001b[39mabs() \u001b[38;5;241m<\u001b[39m \u001b[38;5;241m1000\u001b[39m)\n\u001b[1;32m     48\u001b[0m \u001b[38;5;28;01mif\u001b[39;00m add_noise:\n\u001b[1;32m     49\u001b[0m     stdv \u001b[38;5;241m=\u001b[39m np\u001b[38;5;241m.\u001b[39mrandom\u001b[38;5;241m.\u001b[39muniform(\u001b[38;5;241m0.0\u001b[39m, \u001b[38;5;241m5.0\u001b[39m)\n",
      "\u001b[0;31mIndexError\u001b[0m: index 1 is out of bounds for dimension 0 with size 1"
     ]
    }
   ],
   "source": [
    "from argparse import Namespace\n",
    "dataloaders = {\n",
    "    \"train\": train_loader,\n",
    "    \"val\": test_loader,\n",
    "}\n",
    "args = Namespace(add_noise=False, batch_size=6, clip=1.0, dropout=0.0, epsilon=1e-08, gamma=0.8, gpus=[0, 1], image_size=[384, 512], iters=12, lr=2e-05, mixed_precision=False, name='raft', num_steps=100000, restore_ckpt=None, small=False, stage=None, validation=None, wdecay=5e-05)\n",
    "train_raft(dataloaders, args)"
   ]
  },
  {
   "cell_type": "code",
   "execution_count": null,
   "id": "a74549a8",
   "metadata": {},
   "outputs": [],
   "source": [
    "torch.save(model.state_dict(), \"raft_sintel.pt\")"
   ]
  },
  {
   "cell_type": "code",
   "execution_count": null,
   "id": "a6edb4a8",
   "metadata": {},
   "outputs": [],
   "source": [
    "plt.style.use('seaborn')"
   ]
  },
  {
   "cell_type": "code",
   "execution_count": null,
   "id": "5904da9b",
   "metadata": {},
   "outputs": [],
   "source": [
    "plt.figure()\n",
    "\n",
    "plt.xlabel(\"Epochs\")\n",
    "plt.ylabel(\"Loss\")\n",
    "plt.plot(range(len(flownet_losses[\"train\"])), flownet_losses[\"train\"], label=\"Train\")\n",
    "plt.plot(range(len(flownet_losses[\"val\"])), flownet_losses[\"val\"], label=\"Val\")\n",
    "plt.legend()"
   ]
  },
  {
   "cell_type": "code",
   "execution_count": null,
   "id": "41702d39",
   "metadata": {},
   "outputs": [],
   "source": [
    "i = 160\n",
    "output = model(torch.cat((Tdata[i][0], Tdata[i][1]), dim=0).unsqueeze(dim=0).to(device='cuda'))\n",
    "img_size = Tdata[i][0].shape[1:]\n",
    "output = torch.nn.functional.interpolate(output, size=img_size, mode=\"bilinear\", align_corners=False).squeeze()"
   ]
  },
  {
   "cell_type": "code",
   "execution_count": null,
   "id": "59654c4a",
   "metadata": {},
   "outputs": [],
   "source": [
    "torchvision.transforms.ToPILImage()(Tdata[i][0])"
   ]
  },
  {
   "cell_type": "code",
   "execution_count": null,
   "id": "6f718c50",
   "metadata": {},
   "outputs": [],
   "source": [
    "torchvision.transforms.ToPILImage()(torchvision.utils.flow_to_image(output))"
   ]
  }
 ],
 "metadata": {
  "kernelspec": {
   "display_name": "cs231n",
   "language": "python",
   "name": "cs231n"
  },
  "language_info": {
   "codemirror_mode": {
    "name": "ipython",
    "version": 3
   },
   "file_extension": ".py",
   "mimetype": "text/x-python",
   "name": "python",
   "nbconvert_exporter": "python",
   "pygments_lexer": "ipython3",
   "version": "3.9.12"
  }
 },
 "nbformat": 4,
 "nbformat_minor": 5
}
