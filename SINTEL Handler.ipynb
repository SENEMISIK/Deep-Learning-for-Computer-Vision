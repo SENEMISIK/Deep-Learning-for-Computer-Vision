{
 "cells": [
  {
   "cell_type": "code",
   "execution_count": 1,
   "id": "79419339",
   "metadata": {},
   "outputs": [
    {
     "name": "stderr",
     "output_type": "stream",
     "text": [
      "/home/ubuntu/anaconda3/envs/cs231n/lib/python3.9/site-packages/tqdm/auto.py:22: TqdmWarning: IProgress not found. Please update jupyter and ipywidgets. See https://ipywidgets.readthedocs.io/en/stable/user_install.html\n",
      "  from .autonotebook import tqdm as notebook_tqdm\n"
     ]
    }
   ],
   "source": [
    "import torch\n",
    "import torchvision\n",
    "import os\n",
    "from tqdm import tqdm\n",
    "import matplotlib.pyplot as plt\n",
    "import numpy as np\n",
    "from multiscaleloss import *"
   ]
  },
  {
   "cell_type": "code",
   "execution_count": 2,
   "id": "66fb7c1c",
   "metadata": {
    "scrolled": true
   },
   "outputs": [
    {
     "data": {
      "text/plain": [
       "'0.12.0'"
      ]
     },
     "execution_count": 2,
     "metadata": {},
     "output_type": "execute_result"
    }
   ],
   "source": [
    "torchvision.__version__"
   ]
  },
  {
   "cell_type": "code",
   "execution_count": 3,
   "id": "473dfcd6",
   "metadata": {},
   "outputs": [],
   "source": [
    "data = torchvision.datasets.Sintel(\".\")"
   ]
  },
  {
   "cell_type": "code",
   "execution_count": 4,
   "id": "0c6217a5",
   "metadata": {},
   "outputs": [],
   "source": [
    "class TSintel(torchvision.datasets.Sintel):\n",
    "    def __init__(self, root):\n",
    "        super().__init__(root=root)\n",
    "        \n",
    "    def __getitem__(self, index):\n",
    "        img1, img2, flow = super().__getitem__(index)\n",
    "        img1 = torchvision.transforms.ToTensor()(img1)\n",
    "        img2 = torchvision.transforms.ToTensor()(img2)\n",
    "        return img1, img2, flow"
   ]
  },
  {
   "cell_type": "code",
   "execution_count": 5,
   "id": "c5a8c175",
   "metadata": {},
   "outputs": [],
   "source": [
    "Tdata = TSintel(\".\")"
   ]
  },
  {
   "cell_type": "code",
   "execution_count": 6,
   "id": "474f2de9",
   "metadata": {},
   "outputs": [],
   "source": [
    "train_size = round(len(Tdata) * 0.8)\n",
    "test_size = round(len(Tdata) * 0.2)"
   ]
  },
  {
   "cell_type": "code",
   "execution_count": 7,
   "id": "b5f5e53e",
   "metadata": {},
   "outputs": [],
   "source": [
    "assert train_size + test_size == len(Tdata)"
   ]
  },
  {
   "cell_type": "code",
   "execution_count": 8,
   "id": "f3b0a379",
   "metadata": {},
   "outputs": [],
   "source": [
    "train_data, test_data = torch.utils.data.random_split(Tdata, [train_size, test_size], generator=torch.Generator().manual_seed(42))"
   ]
  },
  {
   "cell_type": "code",
   "execution_count": 9,
   "id": "91e318f7",
   "metadata": {},
   "outputs": [],
   "source": [
    "train_loader = torch.utils.data.DataLoader(train_data, batch_size=16, shuffle=True)\n",
    "test_loader = torch.utils.data.DataLoader(test_data, batch_size=16, shuffle=False)"
   ]
  },
  {
   "cell_type": "code",
   "execution_count": 10,
   "id": "3112e92f",
   "metadata": {},
   "outputs": [
    {
     "name": "stderr",
     "output_type": "stream",
     "text": [
      "/home/ubuntu/cs231n/util.py:11: ImportWarning: failed to load custom correlation modulewhich is needed for FlowNetC\n",
      "  warnings.warn(\"failed to load custom correlation module\"\n"
     ]
    }
   ],
   "source": [
    "from model import FlowNetS\n",
    "from multiscaleloss import multiscaleEPE"
   ]
  },
  {
   "cell_type": "code",
   "execution_count": 11,
   "id": "pursuant-apollo",
   "metadata": {},
   "outputs": [],
   "source": [
    "train_params = {\n",
    "    \"epochs\": 50,\n",
    "    \"lr\": 1e-4,\n",
    "    \"weight_decay\": 4e-4\n",
    "}\n",
    "\n",
    "dataloaders = {\n",
    "    \"train\": train_loader,\n",
    "    \"val\": test_loader,\n",
    "}"
   ]
  },
  {
   "cell_type": "code",
   "execution_count": 13,
   "id": "ideal-sewing",
   "metadata": {},
   "outputs": [],
   "source": [
    "def train_flownet(dataloaders, train_params):\n",
    "    train_loader = dataloaders.get(\"train\")\n",
    "    val_loader = dataloaders.get(\"val\")\n",
    "    \n",
    "    epochs = train_params.get(\"epochs\")\n",
    "    lr = train_params.get(\"lr\")\n",
    "    weight_decay = train_params.get(\"weight_decay\")\n",
    "    \n",
    "    device = torch.device(\"cuda\") if torch.cuda.is_available() else torch.device(\"cpu\")\n",
    "    model = FlowNetS()\n",
    "    optimizer = torch.optim.Adam(model.parameters(), lr=lr, weight_decay=weight_decay)\n",
    "    model = model.to(device)\n",
    "    scheduler = torch.optim.lr_scheduler.MultiStepLR(optimizer, milestones=[100, 150, 200], gamma=0.5)\n",
    "\n",
    "    \n",
    "    losses = {\n",
    "        \"train\": [],\n",
    "        \"val\": []\n",
    "    }\n",
    "    \n",
    "    model.train()\n",
    "    for epoch in range(epochs):\n",
    "    \n",
    "        print(\"Epoch\", str(epoch) + \": \", end=\"\")\n",
    "        train_loss = 0.0\n",
    "        val_loss = 0.0\n",
    "        \n",
    "        model.train()\n",
    "        for i, (img1, img2, label) in tqdm(enumerate(train_loader)):\n",
    "            image = torch.cat((img1, img2), dim=1).to(device)\n",
    "            label = label.to(device)\n",
    "            train_loss += flownet_batch_train(model, optimizer, image, label)\n",
    "            \n",
    "        model.eval()\n",
    "        with torch.no_grad():\n",
    "            for i, (img1, img2, target) in enumerate(val_loader):\n",
    "                image = torch.cat((img1, img2), dim=1).to(device)\n",
    "                label = target.to(device)\n",
    "                val_loss += flownet_batch_validate(model, image, label)\n",
    "                \n",
    "        val_loss /= len(val_loader)\n",
    "        train_loss /= len(train_loader)\n",
    "\n",
    "        print(\"Train Loss\", train_loss, \"Val Loss\", val_loss)\n",
    "        losses[\"train\"].append(train_loss)\n",
    "        losses[\"val\"].append(val_loss)\n",
    "            \n",
    "    return model, losses\n",
    "\n",
    "def flownet_batch_train(model, optimizer, image, label):\n",
    "    optimizer.zero_grad()\n",
    "    outputs = model(image)\n",
    "    h, w = label.size()[-2:]\n",
    "    outputs = [torch.nn.functional.interpolate(outputs[0], (h,w)), *outputs[1:]]\n",
    "\n",
    "    loss = multiscaleEPE(outputs, label, sparse=False)\n",
    "    loss.backward()\n",
    "    optimizer.step()\n",
    "\n",
    "    with torch.no_grad():\n",
    "        train_loss = realEPE(outputs[0], label, sparse=False).item()\n",
    "    return train_loss\n",
    "\n",
    "def flownet_batch_validate(model, image, label):\n",
    "    output = model(image)\n",
    "    loss = realEPE(output, label, sparse=False)\n",
    "    val_loss += loss.item()"
   ]
  },
  {
   "cell_type": "code",
   "execution_count": null,
   "id": "mexican-lucas",
   "metadata": {
    "scrolled": true
   },
   "outputs": [
    {
     "name": "stdout",
     "output_type": "stream",
     "text": [
      "Epoch 0: "
     ]
    },
    {
     "name": "stderr",
     "output_type": "stream",
     "text": [
      "6it [00:11,  1.87s/it]"
     ]
    }
   ],
   "source": [
    "model, flownet_losses = train_flownet(dataloaders, train_params)"
   ]
  },
  {
   "cell_type": "code",
   "execution_count": null,
   "id": "weird-service",
   "metadata": {},
   "outputs": [],
   "source": [
    "torch.save(model.state_dict(), \"flownet_sintel.pt\")"
   ]
  },
  {
   "cell_type": "code",
   "execution_count": null,
   "id": "eastern-fever",
   "metadata": {},
   "outputs": [],
   "source": [
    "plt.style.use('seaborn')"
   ]
  },
  {
   "cell_type": "code",
   "execution_count": null,
   "id": "congressional-powder",
   "metadata": {},
   "outputs": [],
   "source": [
    "plt.figure()\n",
    "\n",
    "plt.xlabel(\"Epochs\")\n",
    "plt.ylabel(\"Loss\")\n",
    "plt.plot(range(len(flownet_losses[\"train\"])), flownet_losses[\"train\"], label=\"Train\")\n",
    "plt.plot(range(len(flownet_losses[\"val\"])), flownet_losses[\"val\"], label=\"Val\")\n",
    "plt.legend()"
   ]
  },
  {
   "cell_type": "code",
   "execution_count": null,
   "id": "cc3b543a",
   "metadata": {},
   "outputs": [],
   "source": [
    "i = 160\n",
    "output = model(torch.cat((Tdata[i][0], Tdata[i][1]), dim=0).unsqueeze(dim=0).to(device))\n",
    "img_size = Tdata[i][0].shape[1:]\n",
    "output = torch.nn.functional.interpolate(output, size=img_size, mode=\"bilinear\", align_corners=False).squeeze()"
   ]
  },
  {
   "cell_type": "code",
   "execution_count": null,
   "id": "82bb5367",
   "metadata": {},
   "outputs": [],
   "source": [
    "torchvision.transforms.ToPILImage()(Tdata[i][0])"
   ]
  },
  {
   "cell_type": "code",
   "execution_count": null,
   "id": "04f794f9",
   "metadata": {},
   "outputs": [],
   "source": [
    "torchvision.transforms.ToPILImage()(torchvision.utils.flow_to_image(output))"
   ]
  },
  {
   "cell_type": "code",
   "execution_count": null,
   "id": "frequent-karma",
   "metadata": {},
   "outputs": [],
   "source": []
  }
 ],
 "metadata": {
  "interpreter": {
   "hash": "b277eb48373094570d8edaab999c6b0219ca31a56a63975cb3ba1eeb180db247"
  },
  "kernelspec": {
   "display_name": "cs231n",
   "language": "python",
   "name": "cs231n"
  },
  "language_info": {
   "codemirror_mode": {
    "name": "ipython",
    "version": 3
   },
   "file_extension": ".py",
   "mimetype": "text/x-python",
   "name": "python",
   "nbconvert_exporter": "python",
   "pygments_lexer": "ipython3",
   "version": "3.9.12"
  }
 },
 "nbformat": 4,
 "nbformat_minor": 5
}
