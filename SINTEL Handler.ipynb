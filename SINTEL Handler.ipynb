{
 "cells": [
  {
   "cell_type": "code",
   "execution_count": 1,
   "id": "79419339",
   "metadata": {},
   "outputs": [
    {
     "name": "stderr",
     "output_type": "stream",
     "text": [
      "/home/ubuntu/anaconda3/envs/cs231n/lib/python3.9/site-packages/tqdm/auto.py:22: TqdmWarning: IProgress not found. Please update jupyter and ipywidgets. See https://ipywidgets.readthedocs.io/en/stable/user_install.html\n",
      "  from .autonotebook import tqdm as notebook_tqdm\n"
     ]
    }
   ],
   "source": [
    "import torch\n",
    "import torchvision\n",
    "import os\n",
    "from tqdm import tqdm\n",
    "import matplotlib.pyplot as plt\n",
    "import numpy as np"
   ]
  },
  {
   "cell_type": "code",
   "execution_count": 2,
   "id": "66fb7c1c",
   "metadata": {
    "scrolled": true
   },
   "outputs": [
    {
     "data": {
      "text/plain": [
       "'0.12.0'"
      ]
     },
     "execution_count": 2,
     "metadata": {},
     "output_type": "execute_result"
    }
   ],
   "source": [
    "torchvision.__version__"
   ]
  },
  {
   "cell_type": "code",
   "execution_count": 3,
   "id": "473dfcd6",
   "metadata": {},
   "outputs": [],
   "source": [
    "data = torchvision.datasets.Sintel(\".\")"
   ]
  },
  {
   "cell_type": "code",
   "execution_count": 4,
   "id": "0c6217a5",
   "metadata": {},
   "outputs": [],
   "source": [
    "class TSintel(torchvision.datasets.Sintel):\n",
    "    def __init__(self, root):\n",
    "        super().__init__(root=root)\n",
    "        \n",
    "    def __getitem__(self, index):\n",
    "        img1, img2, flow = super().__getitem__(index)\n",
    "        img1 = torchvision.transforms.ToTensor()(img1)\n",
    "        img2 = torchvision.transforms.ToTensor()(img2)\n",
    "        return img1, img2, flow"
   ]
  },
  {
   "cell_type": "code",
   "execution_count": 5,
   "id": "c5a8c175",
   "metadata": {},
   "outputs": [],
   "source": [
    "Tdata = TSintel(\".\")"
   ]
  },
  {
   "cell_type": "code",
   "execution_count": 6,
   "id": "474f2de9",
   "metadata": {},
   "outputs": [],
   "source": [
    "train_size = round(len(Tdata) * 0.8)\n",
    "test_size = round(len(Tdata) * 0.2)"
   ]
  },
  {
   "cell_type": "code",
   "execution_count": 7,
   "id": "b5f5e53e",
   "metadata": {},
   "outputs": [],
   "source": [
    "assert train_size + test_size == len(Tdata)"
   ]
  },
  {
   "cell_type": "code",
   "execution_count": 8,
   "id": "f3b0a379",
   "metadata": {},
   "outputs": [],
   "source": [
    "train_data, test_data = torch.utils.data.random_split(Tdata, [train_size, test_size], generator=torch.Generator().manual_seed(42))"
   ]
  },
  {
   "cell_type": "code",
   "execution_count": 9,
   "id": "91e318f7",
   "metadata": {},
   "outputs": [],
   "source": [
    "train_loader = torch.utils.data.DataLoader(train_data, batch_size=16, shuffle=True)\n",
    "test_loader = torch.utils.data.DataLoader(test_data, batch_size=16, shuffle=False)"
   ]
  },
  {
   "cell_type": "code",
   "execution_count": 10,
   "id": "9b5f25ad",
   "metadata": {},
   "outputs": [],
   "source": [
    "epochs = 10\n",
    "lr = 1e-3"
   ]
  },
  {
   "cell_type": "code",
   "execution_count": 11,
   "id": "9d717811",
   "metadata": {},
   "outputs": [],
   "source": [
    "device = torch.device(\"cuda\") if torch.cuda.is_available() else torch.device(\"cpu\")"
   ]
  },
  {
   "cell_type": "code",
   "execution_count": 12,
   "id": "3112e92f",
   "metadata": {},
   "outputs": [
    {
     "name": "stderr",
     "output_type": "stream",
     "text": [
      "/home/ubuntu/cs231n/util.py:11: ImportWarning: failed to load custom correlation modulewhich is needed for FlowNetC\n",
      "  warnings.warn(\"failed to load custom correlation module\"\n"
     ]
    }
   ],
   "source": [
    "from model import FlowNetS\n",
    "from multiscaleloss import multiscaleEPE"
   ]
  },
  {
   "cell_type": "code",
   "execution_count": 13,
   "id": "3c417192",
   "metadata": {},
   "outputs": [],
   "source": [
    "model = FlowNetS()\n",
    "optimizer = torch.optim.Adam(model.parameters(), lr=lr)\n",
    "model = model.to(device)"
   ]
  },
  {
   "cell_type": "code",
   "execution_count": 32,
   "id": "grateful-forward",
   "metadata": {},
   "outputs": [],
   "source": [
    "train_params = {\n",
    "    \"epochs\": 10,\n",
    "    \"lr\": 1e-3,\n",
    "}\n",
    "\n",
    "dataloaders = {\n",
    "    \"train\": train_loader,\n",
    "    \"val\": test_loader,\n",
    "}"
   ]
  },
  {
   "cell_type": "code",
   "execution_count": 36,
   "id": "recorded-writing",
   "metadata": {},
   "outputs": [
    {
     "data": {
      "text/plain": [
       "833"
      ]
     },
     "execution_count": 36,
     "metadata": {},
     "output_type": "execute_result"
    }
   ],
   "source": [
    "len(train_loader.dataset)"
   ]
  },
  {
   "cell_type": "code",
   "execution_count": 33,
   "id": "commercial-killer",
   "metadata": {},
   "outputs": [],
   "source": [
    "def train_flownet(dataloaders, train_params):\n",
    "    train_loader = dataloaders.get(\"train\")\n",
    "    val_loader = dataloaders.get(\"val\")\n",
    "    \n",
    "    epochs = train_params.get(\"epochs\")\n",
    "    lr = train_params.get(\"lr\")\n",
    "    \n",
    "    device = torch.device(\"cuda\") if torch.cuda.is_available() else torch.device(\"cpu\")\n",
    "    model = FlowNetS()\n",
    "    optimizer = torch.optim.Adam(model.parameters(), lr=lr)\n",
    "    model = model.to(device)\n",
    "    \n",
    "    losses = {\n",
    "        \"train\": [],\n",
    "        \"val\": []\n",
    "    }\n",
    "    \n",
    "    model.train()\n",
    "    for epoch in range(epochs):\n",
    "    \n",
    "        print(\"Epoch\", str(epoch) + \": \", end=\"\")\n",
    "        train_loss = 0.0\n",
    "        val_loss = 0.0\n",
    "\n",
    "        for i, (img1, img2, label) in tqdm(enumerate(train_loader)):\n",
    "            image = torch.cat((img1, img2), dim=1).to(device)\n",
    "            label = label.to(device)\n",
    "\n",
    "            optimizer.zero_grad()\n",
    "            outputs = model(image)\n",
    "            h, w = label.size()[-2:]\n",
    "            outputs = [torch.nn.functional.interpolate(outputs[0], (h,w)), *outputs[1:]]\n",
    "\n",
    "            loss = multiscaleEPE(outputs, label, sparse=False)\n",
    "            loss.backward()\n",
    "            optimizer.step()\n",
    "            \n",
    "            with torch.no_grad():\n",
    "                train_loss += realEPE(outputs[0], label, sparse=False).item()\n",
    "            \n",
    "        with torch.no_grad():\n",
    "            model.eval()\n",
    "            val_loss = 0.0\n",
    "\n",
    "            for i, (img1, img2, target) in enumerate(val_loader):\n",
    "                target = target.to(device)\n",
    "                img = torch.cat((img1, img2), dim=1).to(device)\n",
    "\n",
    "                # compute output\n",
    "                output = model(img)\n",
    "                loss = realEPE(output, target, sparse=False)\n",
    "                val_loss += loss.item()\n",
    "                \n",
    "        val_loss /= len(val_loader.dataset)\n",
    "\n",
    "        print(\"Train Loss\", train_loss, \"Val Loss\", val_loss)\n",
    "            losses[\"train\"].append(train_loss)\n",
    "            losses[\"val\"].append(val_loss)\n",
    "            \n",
    "    return losses"
   ]
  },
  {
   "cell_type": "code",
   "execution_count": 34,
   "id": "satisfied-gnome",
   "metadata": {},
   "outputs": [
    {
     "name": "stdout",
     "output_type": "stream",
     "text": [
      "Epoch 0: "
     ]
    },
    {
     "name": "stderr",
     "output_type": "stream",
     "text": [
      "53it [00:59,  1.12s/it]\n"
     ]
    },
    {
     "name": "stdout",
     "output_type": "stream",
     "text": [
      "Train Loss tensor(729.1456, device='cuda:0') Val Loss 204.21940517425537\n"
     ]
    },
    {
     "ename": "KeyError",
     "evalue": "'test'",
     "output_type": "error",
     "traceback": [
      "\u001b[0;31m---------------------------------------------------------------------------\u001b[0m",
      "\u001b[0;31mKeyError\u001b[0m                                  Traceback (most recent call last)",
      "Input \u001b[0;32mIn [34]\u001b[0m, in \u001b[0;36m<cell line: 1>\u001b[0;34m()\u001b[0m\n\u001b[0;32m----> 1\u001b[0m flownet_losses \u001b[38;5;241m=\u001b[39m \u001b[43mtrain_flownet\u001b[49m\u001b[43m(\u001b[49m\u001b[43mdataloaders\u001b[49m\u001b[43m,\u001b[49m\u001b[43m \u001b[49m\u001b[43mtrain_params\u001b[49m\u001b[43m)\u001b[49m\n",
      "Input \u001b[0;32mIn [33]\u001b[0m, in \u001b[0;36mtrain_flownet\u001b[0;34m(dataloaders, train_params)\u001b[0m\n\u001b[1;32m     54\u001b[0m         \u001b[38;5;28mprint\u001b[39m(\u001b[38;5;124m\"\u001b[39m\u001b[38;5;124mTrain Loss\u001b[39m\u001b[38;5;124m\"\u001b[39m, train_loss, \u001b[38;5;124m\"\u001b[39m\u001b[38;5;124mVal Loss\u001b[39m\u001b[38;5;124m\"\u001b[39m, val_loss)\n\u001b[1;32m     55\u001b[0m         losses[\u001b[38;5;124m\"\u001b[39m\u001b[38;5;124mtrain\u001b[39m\u001b[38;5;124m\"\u001b[39m]\u001b[38;5;241m.\u001b[39mappend(train_loss)\n\u001b[0;32m---> 56\u001b[0m         \u001b[43mlosses\u001b[49m\u001b[43m[\u001b[49m\u001b[38;5;124;43m\"\u001b[39;49m\u001b[38;5;124;43mtest\u001b[39;49m\u001b[38;5;124;43m\"\u001b[39;49m\u001b[43m]\u001b[49m\u001b[38;5;241m.\u001b[39mappend(val_loss)\n\u001b[1;32m     58\u001b[0m \u001b[38;5;28;01mreturn\u001b[39;00m losses\n",
      "\u001b[0;31mKeyError\u001b[0m: 'test'"
     ]
    }
   ],
   "source": [
    "flownet_losses = train_flownet(dataloaders, train_params)"
   ]
  },
  {
   "cell_type": "code",
   "execution_count": 19,
   "id": "swiss-standing",
   "metadata": {},
   "outputs": [],
   "source": [
    "def valid_flownet(val_loader):\n",
    "    with torch.no_grad():\n",
    "        model.eval()\n",
    "        val_loss = 0.0\n",
    "\n",
    "        for i, (img1, img2, target) in enumerate(val_loader):\n",
    "            target = target.to(device)\n",
    "            img = torch.cat((img1, img2), dim=1).to(device)\n",
    "\n",
    "            # compute output\n",
    "            output = model(img)\n",
    "            loss = realEPE(output, target, sparse=False)\n",
    "            val_loss += loss.item()\n",
    "\n",
    "        "
   ]
  },
  {
   "cell_type": "code",
   "execution_count": 20,
   "id": "fitting-milwaukee",
   "metadata": {},
   "outputs": [
    {
     "name": "stdout",
     "output_type": "stream",
     "text": [
      "tensor(9.6814, device='cuda:0', grad_fn=<MeanBackward0>)\n",
      "tensor(18.1288, device='cuda:0', grad_fn=<MeanBackward0>)\n",
      "tensor(8.9003, device='cuda:0', grad_fn=<MeanBackward0>)\n",
      "tensor(16.1328, device='cuda:0', grad_fn=<MeanBackward0>)\n",
      "tensor(11.8275, device='cuda:0', grad_fn=<MeanBackward0>)\n",
      "tensor(19.8937, device='cuda:0', grad_fn=<MeanBackward0>)\n",
      "tensor(11.0718, device='cuda:0', grad_fn=<MeanBackward0>)\n",
      "tensor(12.1404, device='cuda:0', grad_fn=<MeanBackward0>)\n",
      "tensor(9.6635, device='cuda:0', grad_fn=<MeanBackward0>)\n",
      "tensor(19.0069, device='cuda:0', grad_fn=<MeanBackward0>)\n",
      "tensor(16.6993, device='cuda:0', grad_fn=<MeanBackward0>)\n",
      "tensor(20.7556, device='cuda:0', grad_fn=<MeanBackward0>)\n",
      "tensor(18.4889, device='cuda:0', grad_fn=<MeanBackward0>)\n"
     ]
    }
   ],
   "source": [
    "from multiscaleloss import *\n",
    "valid_flownet(test_loader)"
   ]
  },
  {
   "cell_type": "code",
   "execution_count": null,
   "id": "825dea29",
   "metadata": {},
   "outputs": [],
   "source": [
    "losses = []\n",
    "\n",
    "for epoch in range(epochs):\n",
    "    \n",
    "    print(\"Epoch\", str(epoch) + \": \", end=\"\")\n",
    "    epoch_loss = 0.0\n",
    "    \n",
    "    for i, (img1, img2, label) in tqdm(enumerate(train_loader)):\n",
    "        image = torch.cat((img1, img2), dim=1)\n",
    "        image = image.to(device)\n",
    "        label = label.to(device)\n",
    "        \n",
    "        optimizer.zero_grad()\n",
    "        outputs = model(image)\n",
    "        h, w = label.size()[-2:]\n",
    "        outputs = [torch.nn.functional.interpolate(outputs[0], (h,w)), *outputs[1:]]\n",
    "        \n",
    "        loss = multiscaleEPE(outputs, label, sparse=True)\n",
    "        loss.backward()\n",
    "        optimizer.step()\n",
    "        \n",
    "        epoch_loss += loss.item()\n",
    "        \n",
    "    print(\"Loss:\", epoch_loss)\n",
    "    losses.append(epoch_loss)"
   ]
  },
  {
   "cell_type": "code",
   "execution_count": null,
   "id": "cc3b543a",
   "metadata": {},
   "outputs": [],
   "source": [
    "i = 160\n",
    "output = model(torch.cat((Tdata[i][0], Tdata[i][1]), dim=0).unsqueeze(dim=0).to(device))\n",
    "img_size = Tdata[i][0].shape[1:]\n",
    "output = torch.nn.functional.interpolate(output, size=img_size, mode=\"bilinear\", align_corners=False).squeeze()"
   ]
  },
  {
   "cell_type": "code",
   "execution_count": null,
   "id": "82bb5367",
   "metadata": {},
   "outputs": [],
   "source": [
    "data[i][0]"
   ]
  },
  {
   "cell_type": "code",
   "execution_count": null,
   "id": "04f794f9",
   "metadata": {},
   "outputs": [],
   "source": [
    "torchvision.transforms.ToPILImage()(torchvision.utils.flow_to_image(output))"
   ]
  },
  {
   "cell_type": "code",
   "execution_count": null,
   "id": "stock-tribune",
   "metadata": {},
   "outputs": [],
   "source": []
  }
 ],
 "metadata": {
  "interpreter": {
   "hash": "b277eb48373094570d8edaab999c6b0219ca31a56a63975cb3ba1eeb180db247"
  },
  "kernelspec": {
   "display_name": "cs231n",
   "language": "python",
   "name": "cs231n"
  },
  "language_info": {
   "codemirror_mode": {
    "name": "ipython",
    "version": 3
   },
   "file_extension": ".py",
   "mimetype": "text/x-python",
   "name": "python",
   "nbconvert_exporter": "python",
   "pygments_lexer": "ipython3",
   "version": "3.9.12"
  }
 },
 "nbformat": 4,
 "nbformat_minor": 5
}
